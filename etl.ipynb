{
 "cells": [
  {
   "cell_type": "markdown",
   "metadata": {
    "editable": true
   },
   "source": [
    "# ETL Processes\n",
    "Use this notebook to develop the ETL process for each of your tables before completing the `etl.py` file to load the whole datasets."
   ]
  },
  {
   "cell_type": "code",
   "execution_count": 1,
   "metadata": {
    "editable": true
   },
   "outputs": [],
   "source": [
    "%load_ext autoreload\n",
    "\n",
    "%autoreload\n",
    "import os\n",
    "import glob\n",
    "import psycopg2\n",
    "import pandas as pd\n",
    "from sql_queries import *\n",
    "import datetime"
   ]
  },
  {
   "cell_type": "code",
   "execution_count": 2,
   "metadata": {
    "editable": true
   },
   "outputs": [],
   "source": [
    "from create_tables import create_database"
   ]
  },
  {
   "cell_type": "code",
   "execution_count": 3,
   "metadata": {
    "editable": true
   },
   "outputs": [
    {
     "data": {
      "text/plain": [
       "(<cursor object at 0x7fbaf71c7710; closed: 0>,\n",
       " <connection object at 0x7fbaf71533d8; dsn: 'user=student password=xxx dbname=sparkifydb host=127.0.0.1', closed: 0>)"
      ]
     },
     "execution_count": 3,
     "metadata": {},
     "output_type": "execute_result"
    }
   ],
   "source": [
    "create_database()"
   ]
  },
  {
   "cell_type": "code",
   "execution_count": 4,
   "metadata": {
    "editable": true
   },
   "outputs": [],
   "source": [
    "try:\n",
    "    conn.close()\n",
    "    conn = psycopg2.connect(\"host=127.0.0.1 dbname=sparkifydb user=student password=student\")\n",
    "    cur = conn.cursor()\n",
    "except:\n",
    "    conn = psycopg2.connect(\"host=127.0.0.1 dbname=sparkifydb user=student password=student\")\n",
    "    cur = conn.cursor()"
   ]
  },
  {
   "cell_type": "code",
   "execution_count": 5,
   "metadata": {
    "editable": true
   },
   "outputs": [],
   "source": [
    "def get_files(filepath):\n",
    "    all_files = []\n",
    "    for root, dirs, files in os.walk(filepath):\n",
    "        files = glob.glob(os.path.join(root,'*.json'))\n",
    "        for f in files :\n",
    "            all_files.append(os.path.abspath(f))\n",
    "    \n",
    "    return all_files"
   ]
  },
  {
   "cell_type": "code",
   "execution_count": 6,
   "metadata": {
    "editable": true
   },
   "outputs": [],
   "source": [
    "#conn.set_session(autocommit=True)"
   ]
  },
  {
   "cell_type": "markdown",
   "metadata": {
    "editable": true
   },
   "source": [
    "# Process `song_data`\n",
    "In this first part, you'll perform ETL on the first dataset, `song_data`, to create the `songs` and `artists` dimensional tables.\n",
    "\n",
    "Let's perform ETL on a single song file and load a single record into each table to start.\n",
    "- Use the `get_files` function provided above to get a list of all song JSON files in `data/song_data`\n",
    "- Select the first song in this list\n",
    "- Read the song file and view the data"
   ]
  },
  {
   "cell_type": "code",
   "execution_count": 7,
   "metadata": {
    "editable": true
   },
   "outputs": [],
   "source": [
    "filepath = \"data/song_data\"\n",
    "song_files = get_files(filepath)"
   ]
  },
  {
   "cell_type": "code",
   "execution_count": 8,
   "metadata": {
    "editable": true
   },
   "outputs": [
    {
     "data": {
      "text/plain": [
       "72"
      ]
     },
     "execution_count": 8,
     "metadata": {},
     "output_type": "execute_result"
    }
   ],
   "source": [
    "len(song_files)"
   ]
  },
  {
   "cell_type": "code",
   "execution_count": 9,
   "metadata": {
    "editable": true
   },
   "outputs": [
    {
     "data": {
      "text/plain": [
       "['/home/workspace/data/song_data/A/A/A/TRAAAAW128F429D538.json',\n",
       " '/home/workspace/data/song_data/A/A/A/TRAAAVG12903CFA543.json']"
      ]
     },
     "execution_count": 9,
     "metadata": {},
     "output_type": "execute_result"
    }
   ],
   "source": [
    "song_files[0:2]"
   ]
  },
  {
   "cell_type": "code",
   "execution_count": 10,
   "metadata": {
    "editable": true
   },
   "outputs": [],
   "source": [
    "list_song_df = []\n",
    "for f in song_files:\n",
    "    list_song_df.append(pd.read_json(filepath + f.split(\"song_data\")[-1], lines=True))\n",
    "df = pd.concat(list_song_df).reset_index(drop=True)\n",
    "#df.head() "
   ]
  },
  {
   "cell_type": "code",
   "execution_count": 11,
   "metadata": {
    "editable": true
   },
   "outputs": [
    {
     "data": {
      "text/plain": [
       "('artist_id',\n",
       " 'artist_latitude',\n",
       " 'artist_location',\n",
       " 'artist_longitude',\n",
       " 'artist_name',\n",
       " 'duration',\n",
       " 'num_songs',\n",
       " 'song_id',\n",
       " 'title',\n",
       " 'year')"
      ]
     },
     "execution_count": 11,
     "metadata": {},
     "output_type": "execute_result"
    }
   ],
   "source": [
    "tuple(list_song_df[0])"
   ]
  },
  {
   "cell_type": "code",
   "execution_count": null,
   "metadata": {
    "editable": true
   },
   "outputs": [],
   "source": []
  },
  {
   "cell_type": "code",
   "execution_count": 12,
   "metadata": {
    "editable": true
   },
   "outputs": [
    {
     "data": {
      "text/html": [
       "<div>\n",
       "<style scoped>\n",
       "    .dataframe tbody tr th:only-of-type {\n",
       "        vertical-align: middle;\n",
       "    }\n",
       "\n",
       "    .dataframe tbody tr th {\n",
       "        vertical-align: top;\n",
       "    }\n",
       "\n",
       "    .dataframe thead th {\n",
       "        text-align: right;\n",
       "    }\n",
       "</style>\n",
       "<table border=\"1\" class=\"dataframe\">\n",
       "  <thead>\n",
       "    <tr style=\"text-align: right;\">\n",
       "      <th></th>\n",
       "      <th>artist_id</th>\n",
       "      <th>artist_latitude</th>\n",
       "      <th>artist_location</th>\n",
       "      <th>artist_longitude</th>\n",
       "      <th>artist_name</th>\n",
       "      <th>duration</th>\n",
       "      <th>num_songs</th>\n",
       "      <th>song_id</th>\n",
       "      <th>title</th>\n",
       "      <th>year</th>\n",
       "    </tr>\n",
       "  </thead>\n",
       "  <tbody>\n",
       "    <tr>\n",
       "      <th>0</th>\n",
       "      <td>ARD7TVE1187B99BFB1</td>\n",
       "      <td>NaN</td>\n",
       "      <td>California - LA</td>\n",
       "      <td>NaN</td>\n",
       "      <td>Casual</td>\n",
       "      <td>218.93179</td>\n",
       "      <td>1</td>\n",
       "      <td>SOMZWCG12A8C13C480</td>\n",
       "      <td>I Didn't Mean To</td>\n",
       "      <td>0</td>\n",
       "    </tr>\n",
       "    <tr>\n",
       "      <th>1</th>\n",
       "      <td>ARNTLGG11E2835DDB9</td>\n",
       "      <td>NaN</td>\n",
       "      <td></td>\n",
       "      <td>NaN</td>\n",
       "      <td>Clp</td>\n",
       "      <td>266.39628</td>\n",
       "      <td>1</td>\n",
       "      <td>SOUDSGM12AC9618304</td>\n",
       "      <td>Insatiable (Instrumental Version)</td>\n",
       "      <td>0</td>\n",
       "    </tr>\n",
       "  </tbody>\n",
       "</table>\n",
       "</div>"
      ],
      "text/plain": [
       "            artist_id  artist_latitude  artist_location  artist_longitude  \\\n",
       "0  ARD7TVE1187B99BFB1              NaN  California - LA               NaN   \n",
       "1  ARNTLGG11E2835DDB9              NaN                                NaN   \n",
       "\n",
       "  artist_name   duration  num_songs             song_id  \\\n",
       "0      Casual  218.93179          1  SOMZWCG12A8C13C480   \n",
       "1         Clp  266.39628          1  SOUDSGM12AC9618304   \n",
       "\n",
       "                               title  year  \n",
       "0                   I Didn't Mean To     0  \n",
       "1  Insatiable (Instrumental Version)     0  "
      ]
     },
     "execution_count": 12,
     "metadata": {},
     "output_type": "execute_result"
    }
   ],
   "source": [
    "df.head(2)"
   ]
  },
  {
   "cell_type": "code",
   "execution_count": 13,
   "metadata": {
    "editable": true
   },
   "outputs": [],
   "source": [
    "df.artist_name = df.artist_name.str.upper()\n",
    "df.title = df.title.str.upper()"
   ]
  },
  {
   "cell_type": "markdown",
   "metadata": {
    "editable": true
   },
   "source": [
    "## #1: `songs` Table\n",
    "#### Extract Data for Songs Table\n",
    "- Select columns for song ID, title, artist ID, year, and duration\n",
    "- Use `df.values` to select just the values from the dataframe\n",
    "- Index to select the first (only) record in the dataframe\n",
    "- Convert the array to a list and set it to `song_data`"
   ]
  },
  {
   "cell_type": "code",
   "execution_count": 14,
   "metadata": {
    "editable": true
   },
   "outputs": [],
   "source": [
    "\n",
    "df[\"year\"] = df[\"year\"].values.astype(int)\n",
    "df[\"duration\"] = df[\"duration\"].values.astype(float)\n",
    "song_df = df[[\"song_id\",\"title\",\"artist_id\",\"year\",\"duration\"]]\n",
    "#song_data = tuple([list(row) for row in song_data.itertuples(index=False)][0])"
   ]
  },
  {
   "cell_type": "code",
   "execution_count": 15,
   "metadata": {
    "editable": true
   },
   "outputs": [],
   "source": [
    "try: \n",
    "    cur.execute(song_table_create)\n",
    "except psycopg2.Error as e: \n",
    "    print(\"Error: Issue creating table\")\n",
    "    print (e)"
   ]
  },
  {
   "cell_type": "markdown",
   "metadata": {
    "editable": true
   },
   "source": [
    "#### Insert Record into Song Table\n",
    "Implement the `song_table_insert` query in `sql_queries.py` and run the cell below to insert a record for this song into the `songs` table. Remember to run `create_tables.py` before running the cell below to ensure you've created/resetted the `songs` table in the sparkify database."
   ]
  },
  {
   "cell_type": "code",
   "execution_count": 16,
   "metadata": {
    "editable": true
   },
   "outputs": [
    {
     "data": {
      "text/html": [
       "<div>\n",
       "<style scoped>\n",
       "    .dataframe tbody tr th:only-of-type {\n",
       "        vertical-align: middle;\n",
       "    }\n",
       "\n",
       "    .dataframe tbody tr th {\n",
       "        vertical-align: top;\n",
       "    }\n",
       "\n",
       "    .dataframe thead th {\n",
       "        text-align: right;\n",
       "    }\n",
       "</style>\n",
       "<table border=\"1\" class=\"dataframe\">\n",
       "  <thead>\n",
       "    <tr style=\"text-align: right;\">\n",
       "      <th></th>\n",
       "      <th>song_id</th>\n",
       "      <th>title</th>\n",
       "      <th>artist_id</th>\n",
       "      <th>year</th>\n",
       "      <th>duration</th>\n",
       "    </tr>\n",
       "  </thead>\n",
       "  <tbody>\n",
       "    <tr>\n",
       "      <th>0</th>\n",
       "      <td>SOMZWCG12A8C13C480</td>\n",
       "      <td>I DIDN'T MEAN TO</td>\n",
       "      <td>ARD7TVE1187B99BFB1</td>\n",
       "      <td>0</td>\n",
       "      <td>218.93179</td>\n",
       "    </tr>\n",
       "    <tr>\n",
       "      <th>1</th>\n",
       "      <td>SOUDSGM12AC9618304</td>\n",
       "      <td>INSATIABLE (INSTRUMENTAL VERSION)</td>\n",
       "      <td>ARNTLGG11E2835DDB9</td>\n",
       "      <td>0</td>\n",
       "      <td>266.39628</td>\n",
       "    </tr>\n",
       "    <tr>\n",
       "      <th>2</th>\n",
       "      <td>SOIAZJW12AB01853F1</td>\n",
       "      <td>PINK WORLD</td>\n",
       "      <td>AR8ZCNI1187B9A069B</td>\n",
       "      <td>1984</td>\n",
       "      <td>269.81832</td>\n",
       "    </tr>\n",
       "    <tr>\n",
       "      <th>3</th>\n",
       "      <td>SOHKNRJ12A6701D1F8</td>\n",
       "      <td>DROP OF RAIN</td>\n",
       "      <td>AR10USD1187B99F3F1</td>\n",
       "      <td>0</td>\n",
       "      <td>189.57016</td>\n",
       "    </tr>\n",
       "    <tr>\n",
       "      <th>4</th>\n",
       "      <td>SOCIWDW12A8C13D406</td>\n",
       "      <td>SOUL DEEP</td>\n",
       "      <td>ARMJAGH1187FB546F3</td>\n",
       "      <td>1969</td>\n",
       "      <td>148.03546</td>\n",
       "    </tr>\n",
       "  </tbody>\n",
       "</table>\n",
       "</div>"
      ],
      "text/plain": [
       "              song_id                              title           artist_id  \\\n",
       "0  SOMZWCG12A8C13C480                   I DIDN'T MEAN TO  ARD7TVE1187B99BFB1   \n",
       "1  SOUDSGM12AC9618304  INSATIABLE (INSTRUMENTAL VERSION)  ARNTLGG11E2835DDB9   \n",
       "2  SOIAZJW12AB01853F1                         PINK WORLD  AR8ZCNI1187B9A069B   \n",
       "3  SOHKNRJ12A6701D1F8                       DROP OF RAIN  AR10USD1187B99F3F1   \n",
       "4  SOCIWDW12A8C13D406                          SOUL DEEP  ARMJAGH1187FB546F3   \n",
       "\n",
       "   year   duration  \n",
       "0     0  218.93179  \n",
       "1     0  266.39628  \n",
       "2  1984  269.81832  \n",
       "3     0  189.57016  \n",
       "4  1969  148.03546  "
      ]
     },
     "execution_count": 16,
     "metadata": {},
     "output_type": "execute_result"
    }
   ],
   "source": [
    "song_df.head()"
   ]
  },
  {
   "cell_type": "code",
   "execution_count": 17,
   "metadata": {
    "editable": true
   },
   "outputs": [
    {
     "data": {
      "text/plain": [
       "'INSERT INTO songs (song_id,title,artist_id,year,duration)                  VALUES (%s, %s, %s, %s, %s)'"
      ]
     },
     "execution_count": 17,
     "metadata": {},
     "output_type": "execute_result"
    }
   ],
   "source": [
    "song_table_insert"
   ]
  },
  {
   "cell_type": "code",
   "execution_count": 18,
   "metadata": {
    "editable": true
   },
   "outputs": [
    {
     "name": "stdout",
     "output_type": "stream",
     "text": [
      "('SOMZWCG12A8C13C480', \"I DIDN'T MEAN TO\", 'ARD7TVE1187B99BFB1', 0, 218.93179)\n",
      "('SOUDSGM12AC9618304', 'INSATIABLE (INSTRUMENTAL VERSION)', 'ARNTLGG11E2835DDB9', 0, 266.39628)\n",
      "('SOIAZJW12AB01853F1', 'PINK WORLD', 'AR8ZCNI1187B9A069B', 1984, 269.81832)\n",
      "('SOHKNRJ12A6701D1F8', 'DROP OF RAIN', 'AR10USD1187B99F3F1', 0, 189.57016)\n",
      "('SOCIWDW12A8C13D406', 'SOUL DEEP', 'ARMJAGH1187FB546F3', 1969, 148.03546)\n",
      "('SOYMRWW12A6D4FAB14', 'THE MOON AND I (ORDINARY DAY ALBUM VERSION)', 'ARKFYS91187B98E58F', 0, 267.7024)\n",
      "('SOMJBYD12A6D4F8557', 'KEEPIN IT REAL (SKIT)', 'ARD0S291187B9B7BF5', 0, 114.78159)\n",
      "('SOQHXMF12AB0182363', 'YOUNG BOY BLUES', 'ARGSJW91187B9B1D6B', 0, 218.77506)\n",
      "('SONHOTT12A8C13493C', 'SOMETHING GIRLS', 'AR7G5I41187FB4CE6C', 1982, 233.40363)\n",
      "('SOFSOCN12A8C143F5D', 'FACE THE ASHES', 'ARXR32B1187FB57099', 2007, 209.60608)\n",
      "('SOXVLOJ12AB0189215', 'AMOR DE CABARET', 'ARKRRTF1187B9984DA', 0, 177.47546)\n",
      "('SOMZWCG12A8C13C480', \"I DIDN'T MEAN TO\", 'ARD7TVE1187B99BFB1', 0, 218.93179)\n",
      "('SOUQQEA12A8C134B1B', 'HIGH TIDE', 'ARIG6O41187B988BDD', 0, 228.5971)\n",
      "('SOILPQQ12AB017E82A', 'SOHNA NEE SOHNA DATA', 'AR1ZHYZ1187FB3C717', 0, 599.24853)\n",
      "('SOHUOAP12A8AE488E9', 'FLOATING', 'ARD842G1187B997376', 1987, 491.12771)\n",
      "('SOMUYGI12AB0188633', 'LA CULPA', 'ARL7K851187B99ACD2', 0, 226.35057)\n",
      "('SORAMLE12AB017C8B0', 'AUGURI CHA CHA', 'ARHHO3O1187B989413', 0, 191.84281)\n",
      "('SOXLBJT12A8C140925', 'CAUGHT IN A DREAM', 'ARYKCQI1187FB3B18F', 2004, 290.29832)\n",
      "('SOWTBJW12AC468AC6E', 'BROKEN-DOWN MERRY-GO-ROUND', 'ARQGYP71187FB44566', 0, 151.84934)\n",
      "('SOZVMJI12AB01808AF', 'SYNTHETIC DREAM', 'ARNPAGP1241B9C7FD4', 0, 165.69424)\n",
      "('SOKEJEJ12A8C13E0D0', 'THE URGENCY (LP VERSION)', 'ARC43071187B990240', 0, 245.21098)\n",
      "('SOBEBDG12A58A76D60', 'KASSIE JONES', 'ARI3BMM1187FB4255E', 0, 220.78649)\n",
      "('SOBONFF12A6D4F84D8', 'TONIGHT WILL BE ALRIGHT', 'ARIK43K1187B9AE54C', 1986, 307.3824)\n",
      "('SOOLYAZ12A6701F4A6', 'LAWS PATROLLING (ALBUM VERSION)', 'AREBBGV1187FB523D2', 0, 173.66159)\n",
      "('SOGNCJP12A58A80271', 'DO YOU FINALLY NEED A FRIEND', 'ARB29H41187B98F0EF', 1972, 342.56934)\n",
      "('SONYPOM12A8C13B2D7', 'I THINK MY WIFE IS RUNNING AROUND ON ME (TACO HELL)', 'ARDNS031187B9924F0', 2005, 186.48771)\n",
      "('SOBBUGU12A8C13E95D', 'SETTING FIRE TO SLEEPING GIANTS', 'ARMAC4T1187FB3FA4C', 2004, 207.77751)\n",
      "('SOGXHEG12AB018653E', 'IT MAKES NO DIFFERENCE NOW', 'AR0RCMP1187FB3F427', 1992, 133.32853)\n",
      "('SOBLGCN12AB0183212', 'JAMES (HOLD THE LADDER STEADY)', 'AR47JEX1187B995D81', 1985, 124.86485)\n",
      "('SOZQDIU12A58A7BCF6', 'SUPERCONFIDENTIAL', 'ARNTLGG11E2835DDB9', 0, 338.31138)\n",
      "('SOVYKGO12AB0187199', 'CRAZY MIXED UP WORLD', 'ARH4Z031187B9A71F2', 1961, 156.39465)\n",
      "('SOPSWQW12A6D4F8781', 'MADE LIKE THIS (LIVE)', 'ARGIWFO1187B9B55B7', 0, 225.09669)\n",
      "('SOZCTXZ12AB0182364', 'SETANTA MATINS', 'AR5KOSW1187FB35FF4', 0, 269.58322)\n",
      "('SOLLHMX12AB01846DC', 'THE EMPEROR FALLS', 'AR1Y2PT1187FB5B9CE', 0, 484.62322)\n",
      "('SOBZBAZ12A6D4F8742', 'SPANISH GREASE', 'AROUOZZ1187B9ABE51', 1997, 168.25424)\n",
      "('SOYTPEP12AB0180E7B', 'TWIST AND SHOUT', 'ARAJPHH1187FB5566A', 1964, 164.80608)\n",
      "('SOGOSOV12AF72A285E', '¿DÓNDE VA CHICHI?', 'ARGUVEV1187B98BA17', 1997, 313.12934)\n",
      "('SOZHPGD12A8C1394FE', 'BABY COME TO ME', 'AR9AWNF1187B9AB0B4', 0, 236.93016)\n",
      "('SOMVWWT12A58A7AE05', 'KNOCKED OUT OF THE PARK', 'ARQ9BO41187FB5CF1F', 0, 183.17016)\n",
      "('SOTUKVB12AB0181477', 'BLESSED ASSURANCE', 'AR7ZKHQ1187B98DD73', 1993, 270.602)\n",
      "('SOTTDKS12AB018D69B', 'IT WONT BE CHRISTMAS', 'ARMBR4Y1187B9990EB', 0, 241.47546)\n",
      "('SODUJBS12A8C132150', 'WESSEX LOSES A BRIDE', 'ARI2JSK1187FB496EF', 0, 111.62077)\n",
      "('SOQVMXR12A81C21483', 'SALT IN NYC', 'ARKULSX1187FB45F84', 0, 424.12363)\n",
      "('SOPVXLX12A8C1402D5', 'LARGER THAN LIFE', 'AR3JMC51187B9AE49D', 1999, 236.25098)\n",
      "('SOBBXLX12A58A79DDA', 'ERICA (2005 DIGITAL REMASTER)', 'AREDBBQ1187B98AFF5', 0, 138.63138)\n",
      "('SOQLGFP12A58A7800E', 'OAKTOWN', 'ARD7TVE1187B99BFB1', 0, 259.44771)\n",
      "('SOSLAVG12A8C13397F', 'DEN PAI ALO', 'AROGWRA122988FEE45', 0, 243.82649)\n",
      "('SOAOIBZ12AB01815BE', 'I HOLD YOUR HAND IN MINE [LIVE AT ROYAL ALBERT HALL]', 'ARPBNLO1187FB3D52F', 2000, 43.36281)\n",
      "('SOPEGZN12AB0181B3D', 'GET YOUR HEAD STUCK ON YOUR NECK', 'AREDL271187FB40F44', 0, 45.66159)\n",
      "('SOXILUQ12A58A7C72A', 'JENNY TAKE A RIDE', 'ARP6N5A1187B99D1A3', 2004, 207.43791)\n",
      "('SOOJPRH12A8C141995', 'LOADED LIKE A GUN', 'ARBGXIG122988F409D', 0, 173.19138)\n",
      "('SOTCKKY12AB018A141', 'SONNERIE LALALEULÉ HI HOUUU', 'ARGSAFR1269FB35070', 0, 29.54404)\n",
      "('SOGVQGJ12AB017F169', 'TEN TONNE', 'AR62SOJ1187FB47BB5', 2005, 337.68444)\n",
      "('SOBAYLL12A8C138AF9', 'SONO ANDATI? FINGEVO DI DORMIRE', 'ARDR4AC1187FB371A1', 0, 511.16363)\n",
      "('SOFFKZS12AB017F194', 'A HIGHER PLACE (ALBUM VERSION)', 'ARBEBBY1187B9B43DB', 1994, 236.17261)\n",
      "('SOFNOQK12AB01840FC', 'KUTT FREE (DJ VOLUME REMIX)', 'ARNNKDK1187B98BBD5', 0, 407.37914)\n",
      "('SOBCOSW12A8C13D398', 'RUMBA DE BARCELONA', 'AR7SMBG1187B9B9066', 0, 218.38322)\n",
      "('SOQOTLQ12AB01868D0', 'CLEMENTINA SANTAFÈ', 'ARGCY1Y1187B9A4FA5', 0, 153.33832)\n",
      "('SOBKWDJ12A8C13B2F3', 'WILD ROSE (BACK 2 BASICS MIX)', 'AR36F9J1187FB406F1', 0, 230.71302)\n",
      "('SOLEYHO12AB0188A85', 'GOT MY MOJO WORKIN', 'ARAGB2O1187FB3A161', 0, 338.23302)\n",
      "('SOUPIRU12A6D4FA1E1', 'DER KLEINE DOMPFAFF', 'ARJIE2Y1187B994AB7', 0, 152.92036)\n",
      "('SORRZGD12A6310DBC3', 'HARAJUKU GIRLS', 'ARVBRGZ1187FB4675A', 2004, 290.55955)\n",
      "('SOGDBUF12A8C140FAA', 'INTRO', 'AR558FS1187FB45658', 2003, 75.67628)\n",
      "('SONWXQJ12A8C134D94', 'THE BALLAD OF SLEEPING BEAUTY', 'ARNF6401187FB57032', 1994, 305.162)\n",
      "('SONSKXP12A8C13A2C9', 'NATIVE SOUL', 'AR0IAWL1187B9A96D0', 2003, 197.19791)\n",
      "('SOLYIBD12A8C135045', 'MUSIC IS WHAT WE LOVE', 'AR051KA1187B98B2FF', 0, 261.51138)\n",
      "('SODAUVL12A8C13D184', 'PROGNOSIS', 'ARWB3G61187FB49404', 2000, 363.85914)\n",
      "('SOSWKAV12AB018FC91', 'MIDNIGHT STAR', 'ARULZCI1241B9C8611', 0, 335.51628)\n",
      "('SODREIN12A58A7F2E5', 'A WHITER SHADE OF PALE (LIVE @ FILLMORE WEST)', 'ARLTWXK1187FB5A3F8', 0, 326.00771)\n",
      "('SOWQTQZ12A58A7B63E', 'STREETS ON FIRE (EXPLICIT ALBUM VERSION)', 'ARPFHN61187FB575F6', 0, 279.97995)\n",
      "('SOINLJW12A8C13314C', 'CITY SLICKERS', 'AR8IEZO1187B99055E', 2008, 149.86404)\n",
      "('SOFCHDR12AB01866EF', 'LIVING HELL', 'AREVWGE1187B9B890A', 0, 282.43546)\n"
     ]
    }
   ],
   "source": [
    "for row in song_df.itertuples(index=False):\n",
    "    print(tuple(row))\n",
    "    cur.execute(song_table_insert, tuple(row))\n",
    "    conn.commit()"
   ]
  },
  {
   "cell_type": "markdown",
   "metadata": {
    "editable": true
   },
   "source": [
    "Run `test.ipynb` to see if you've successfully added a record to this table."
   ]
  },
  {
   "cell_type": "markdown",
   "metadata": {
    "editable": true
   },
   "source": [
    "## #2: `artists` Table\n",
    "#### Extract Data for Artists Table\n",
    "- Select columns for artist ID, name, location, latitude, and longitude\n",
    "- Use `df.values` to select just the values from the dataframe\n",
    "- Index to select the first (only) record in the dataframe\n",
    "- Convert the array to a list and set it to `artist_data`"
   ]
  },
  {
   "cell_type": "code",
   "execution_count": 19,
   "metadata": {
    "editable": true
   },
   "outputs": [],
   "source": [
    "artist_df = df[[\"artist_id\",\"artist_name\",\"artist_location\",\"artist_latitude\",\"artist_longitude\"]]\n",
    "#artist_data = tuple([list(row) for row in artist_data.itertuples(index=False)][0])"
   ]
  },
  {
   "cell_type": "markdown",
   "metadata": {
    "editable": true
   },
   "source": [
    "#### Insert Record into Artist Table\n",
    "Implement the `artist_table_insert` query in `sql_queries.py` and run the cell below to insert a record for this song's artist into the `artists` table. Remember to run `create_tables.py` before running the cell below to ensure you've created/resetted the `artists` table in the sparkify database."
   ]
  },
  {
   "cell_type": "code",
   "execution_count": 20,
   "metadata": {
    "editable": true
   },
   "outputs": [],
   "source": [
    "try: \n",
    "    cur.execute(artist_table_create)\n",
    "except psycopg2.Error as e: \n",
    "    print(\"Error: Issue creating table\")\n",
    "    print (e)"
   ]
  },
  {
   "cell_type": "code",
   "execution_count": 21,
   "metadata": {
    "editable": true
   },
   "outputs": [],
   "source": [
    "\n",
    "for row in artist_df.itertuples(index=False):\n",
    "    cur.execute(artist_table_insert, tuple(row))\n",
    "    conn.commit()"
   ]
  },
  {
   "cell_type": "markdown",
   "metadata": {
    "editable": true
   },
   "source": [
    "Run `test.ipynb` to see if you've successfully added a record to this table."
   ]
  },
  {
   "cell_type": "markdown",
   "metadata": {
    "editable": true
   },
   "source": [
    "# Process `log_data`\n",
    "In this part, you'll perform ETL on the second dataset, `log_data`, to create the `time` and `users` dimensional tables, as well as the `songplays` fact table.\n",
    "\n",
    "Let's perform ETL on a single log file and load a single record into each table.\n",
    "- Use the `get_files` function provided above to get a list of all log JSON files in `data/log_data`\n",
    "- Select the first log file in this list\n",
    "- Read the log file and view the data"
   ]
  },
  {
   "cell_type": "code",
   "execution_count": 22,
   "metadata": {
    "editable": true
   },
   "outputs": [],
   "source": [
    "log_filepath = \"data/log_data\"\n",
    "log_files = get_files(log_filepath)"
   ]
  },
  {
   "cell_type": "code",
   "execution_count": 23,
   "metadata": {
    "editable": true
   },
   "outputs": [
    {
     "data": {
      "text/plain": [
       "'/home/workspace/data/log_data/2018/11/2018-11-30-events.json'"
      ]
     },
     "execution_count": 23,
     "metadata": {},
     "output_type": "execute_result"
    }
   ],
   "source": [
    "log_files[0]"
   ]
  },
  {
   "cell_type": "code",
   "execution_count": 24,
   "metadata": {
    "editable": true
   },
   "outputs": [
    {
     "data": {
      "text/plain": [
       "30"
      ]
     },
     "execution_count": 24,
     "metadata": {},
     "output_type": "execute_result"
    }
   ],
   "source": [
    "len(log_files)"
   ]
  },
  {
   "cell_type": "code",
   "execution_count": 25,
   "metadata": {
    "editable": true
   },
   "outputs": [],
   "source": [
    "list_log = []\n",
    "l=[]\n",
    "for index, f in enumerate(log_files):\n",
    "    f = pd.read_json(open(log_filepath + log_files[index].split(\"log_data\")[-1],\"r\"), lines=True)\n",
    "    l.append(f.shape[0])\n",
    "    list_log.append(f)\n",
    "\n",
    "    "
   ]
  },
  {
   "cell_type": "code",
   "execution_count": 26,
   "metadata": {
    "editable": true
   },
   "outputs": [
    {
     "data": {
      "text/plain": [
       "8056"
      ]
     },
     "execution_count": 26,
     "metadata": {},
     "output_type": "execute_result"
    }
   ],
   "source": [
    "sum(l)"
   ]
  },
  {
   "cell_type": "code",
   "execution_count": 27,
   "metadata": {
    "editable": true
   },
   "outputs": [
    {
     "data": {
      "text/plain": [
       "30"
      ]
     },
     "execution_count": 27,
     "metadata": {},
     "output_type": "execute_result"
    }
   ],
   "source": [
    "len(list_log)"
   ]
  },
  {
   "cell_type": "code",
   "execution_count": 28,
   "metadata": {
    "editable": true
   },
   "outputs": [
    {
     "data": {
      "text/html": [
       "<div>\n",
       "<style scoped>\n",
       "    .dataframe tbody tr th:only-of-type {\n",
       "        vertical-align: middle;\n",
       "    }\n",
       "\n",
       "    .dataframe tbody tr th {\n",
       "        vertical-align: top;\n",
       "    }\n",
       "\n",
       "    .dataframe thead th {\n",
       "        text-align: right;\n",
       "    }\n",
       "</style>\n",
       "<table border=\"1\" class=\"dataframe\">\n",
       "  <thead>\n",
       "    <tr style=\"text-align: right;\">\n",
       "      <th></th>\n",
       "      <th>artist</th>\n",
       "      <th>auth</th>\n",
       "      <th>firstName</th>\n",
       "      <th>gender</th>\n",
       "      <th>itemInSession</th>\n",
       "      <th>lastName</th>\n",
       "      <th>length</th>\n",
       "      <th>level</th>\n",
       "      <th>location</th>\n",
       "      <th>method</th>\n",
       "      <th>page</th>\n",
       "      <th>registration</th>\n",
       "      <th>sessionId</th>\n",
       "      <th>song</th>\n",
       "      <th>status</th>\n",
       "      <th>ts</th>\n",
       "      <th>userAgent</th>\n",
       "      <th>userId</th>\n",
       "    </tr>\n",
       "  </thead>\n",
       "  <tbody>\n",
       "    <tr>\n",
       "      <th>0</th>\n",
       "      <td>Stephen Lynch</td>\n",
       "      <td>Logged In</td>\n",
       "      <td>Jayden</td>\n",
       "      <td>M</td>\n",
       "      <td>0</td>\n",
       "      <td>Bell</td>\n",
       "      <td>182.85669</td>\n",
       "      <td>free</td>\n",
       "      <td>Dallas-Fort Worth-Arlington, TX</td>\n",
       "      <td>PUT</td>\n",
       "      <td>NextSong</td>\n",
       "      <td>1.540992e+12</td>\n",
       "      <td>829</td>\n",
       "      <td>Jim Henson's Dead</td>\n",
       "      <td>200</td>\n",
       "      <td>1543537327796</td>\n",
       "      <td>Mozilla/5.0 (compatible; MSIE 10.0; Windows NT...</td>\n",
       "      <td>91</td>\n",
       "    </tr>\n",
       "    <tr>\n",
       "      <th>1</th>\n",
       "      <td>Manowar</td>\n",
       "      <td>Logged In</td>\n",
       "      <td>Jacob</td>\n",
       "      <td>M</td>\n",
       "      <td>0</td>\n",
       "      <td>Klein</td>\n",
       "      <td>247.56200</td>\n",
       "      <td>paid</td>\n",
       "      <td>Tampa-St. Petersburg-Clearwater, FL</td>\n",
       "      <td>PUT</td>\n",
       "      <td>NextSong</td>\n",
       "      <td>1.540558e+12</td>\n",
       "      <td>1049</td>\n",
       "      <td>Shell Shock</td>\n",
       "      <td>200</td>\n",
       "      <td>1543540121796</td>\n",
       "      <td>\"Mozilla/5.0 (Macintosh; Intel Mac OS X 10_9_4...</td>\n",
       "      <td>73</td>\n",
       "    </tr>\n",
       "  </tbody>\n",
       "</table>\n",
       "</div>"
      ],
      "text/plain": [
       "          artist       auth firstName gender  itemInSession lastName  \\\n",
       "0  Stephen Lynch  Logged In    Jayden      M              0     Bell   \n",
       "1        Manowar  Logged In     Jacob      M              0    Klein   \n",
       "\n",
       "      length level                             location method      page  \\\n",
       "0  182.85669  free      Dallas-Fort Worth-Arlington, TX    PUT  NextSong   \n",
       "1  247.56200  paid  Tampa-St. Petersburg-Clearwater, FL    PUT  NextSong   \n",
       "\n",
       "   registration  sessionId               song  status             ts  \\\n",
       "0  1.540992e+12        829  Jim Henson's Dead     200  1543537327796   \n",
       "1  1.540558e+12       1049        Shell Shock     200  1543540121796   \n",
       "\n",
       "                                           userAgent userId  \n",
       "0  Mozilla/5.0 (compatible; MSIE 10.0; Windows NT...     91  \n",
       "1  \"Mozilla/5.0 (Macintosh; Intel Mac OS X 10_9_4...     73  "
      ]
     },
     "execution_count": 28,
     "metadata": {},
     "output_type": "execute_result"
    }
   ],
   "source": [
    "list_log[0].head(2)"
   ]
  },
  {
   "cell_type": "code",
   "execution_count": 29,
   "metadata": {
    "editable": true
   },
   "outputs": [
    {
     "data": {
      "text/html": [
       "<div>\n",
       "<style scoped>\n",
       "    .dataframe tbody tr th:only-of-type {\n",
       "        vertical-align: middle;\n",
       "    }\n",
       "\n",
       "    .dataframe tbody tr th {\n",
       "        vertical-align: top;\n",
       "    }\n",
       "\n",
       "    .dataframe thead th {\n",
       "        text-align: right;\n",
       "    }\n",
       "</style>\n",
       "<table border=\"1\" class=\"dataframe\">\n",
       "  <thead>\n",
       "    <tr style=\"text-align: right;\">\n",
       "      <th></th>\n",
       "      <th>artist</th>\n",
       "      <th>auth</th>\n",
       "      <th>firstName</th>\n",
       "      <th>gender</th>\n",
       "      <th>itemInSession</th>\n",
       "      <th>lastName</th>\n",
       "      <th>length</th>\n",
       "      <th>level</th>\n",
       "      <th>location</th>\n",
       "      <th>method</th>\n",
       "      <th>page</th>\n",
       "      <th>registration</th>\n",
       "      <th>sessionId</th>\n",
       "      <th>song</th>\n",
       "      <th>status</th>\n",
       "      <th>ts</th>\n",
       "      <th>userAgent</th>\n",
       "      <th>userId</th>\n",
       "    </tr>\n",
       "  </thead>\n",
       "  <tbody>\n",
       "    <tr>\n",
       "      <th>386</th>\n",
       "      <td>None</td>\n",
       "      <td>Logged In</td>\n",
       "      <td>Rylan</td>\n",
       "      <td>M</td>\n",
       "      <td>61</td>\n",
       "      <td>George</td>\n",
       "      <td>NaN</td>\n",
       "      <td>paid</td>\n",
       "      <td>Birmingham-Hoover, AL</td>\n",
       "      <td>GET</td>\n",
       "      <td>Downgrade</td>\n",
       "      <td>1.541020e+12</td>\n",
       "      <td>1076</td>\n",
       "      <td>None</td>\n",
       "      <td>200</td>\n",
       "      <td>1543603993796</td>\n",
       "      <td>\"Mozilla/5.0 (Macintosh; Intel Mac OS X 10_9_4...</td>\n",
       "      <td>16</td>\n",
       "    </tr>\n",
       "    <tr>\n",
       "      <th>387</th>\n",
       "      <td>Deas Vail</td>\n",
       "      <td>Logged In</td>\n",
       "      <td>Elijah</td>\n",
       "      <td>M</td>\n",
       "      <td>0</td>\n",
       "      <td>Davis</td>\n",
       "      <td>237.68771</td>\n",
       "      <td>free</td>\n",
       "      <td>Detroit-Warren-Dearborn, MI</td>\n",
       "      <td>PUT</td>\n",
       "      <td>NextSong</td>\n",
       "      <td>1.540772e+12</td>\n",
       "      <td>985</td>\n",
       "      <td>Anything You Say (Unreleased Version)</td>\n",
       "      <td>200</td>\n",
       "      <td>1543607664796</td>\n",
       "      <td>\"Mozilla/5.0 (Macintosh; Intel Mac OS X 10_9_4...</td>\n",
       "      <td>5</td>\n",
       "    </tr>\n",
       "  </tbody>\n",
       "</table>\n",
       "</div>"
      ],
      "text/plain": [
       "        artist       auth firstName gender  itemInSession lastName     length  \\\n",
       "386       None  Logged In     Rylan      M             61   George        NaN   \n",
       "387  Deas Vail  Logged In    Elijah      M              0    Davis  237.68771   \n",
       "\n",
       "    level                     location method       page  registration  \\\n",
       "386  paid        Birmingham-Hoover, AL    GET  Downgrade  1.541020e+12   \n",
       "387  free  Detroit-Warren-Dearborn, MI    PUT   NextSong  1.540772e+12   \n",
       "\n",
       "     sessionId                                   song  status             ts  \\\n",
       "386       1076                                   None     200  1543603993796   \n",
       "387        985  Anything You Say (Unreleased Version)     200  1543607664796   \n",
       "\n",
       "                                             userAgent userId  \n",
       "386  \"Mozilla/5.0 (Macintosh; Intel Mac OS X 10_9_4...     16  \n",
       "387  \"Mozilla/5.0 (Macintosh; Intel Mac OS X 10_9_4...      5  "
      ]
     },
     "execution_count": 29,
     "metadata": {},
     "output_type": "execute_result"
    }
   ],
   "source": [
    "list_log[0].tail(2)"
   ]
  },
  {
   "cell_type": "code",
   "execution_count": 30,
   "metadata": {
    "editable": true
   },
   "outputs": [],
   "source": [
    "log_df = pd.concat(list_log)"
   ]
  },
  {
   "cell_type": "code",
   "execution_count": 31,
   "metadata": {
    "editable": true
   },
   "outputs": [
    {
     "data": {
      "text/plain": [
       "(8056, 18)"
      ]
     },
     "execution_count": 31,
     "metadata": {},
     "output_type": "execute_result"
    }
   ],
   "source": [
    "log_df.shape"
   ]
  },
  {
   "cell_type": "code",
   "execution_count": 32,
   "metadata": {
    "editable": true
   },
   "outputs": [
    {
     "data": {
      "text/html": [
       "<div>\n",
       "<style scoped>\n",
       "    .dataframe tbody tr th:only-of-type {\n",
       "        vertical-align: middle;\n",
       "    }\n",
       "\n",
       "    .dataframe tbody tr th {\n",
       "        vertical-align: top;\n",
       "    }\n",
       "\n",
       "    .dataframe thead th {\n",
       "        text-align: right;\n",
       "    }\n",
       "</style>\n",
       "<table border=\"1\" class=\"dataframe\">\n",
       "  <thead>\n",
       "    <tr style=\"text-align: right;\">\n",
       "      <th></th>\n",
       "      <th>artist</th>\n",
       "      <th>auth</th>\n",
       "      <th>firstName</th>\n",
       "      <th>gender</th>\n",
       "      <th>itemInSession</th>\n",
       "      <th>lastName</th>\n",
       "      <th>length</th>\n",
       "      <th>level</th>\n",
       "      <th>location</th>\n",
       "      <th>method</th>\n",
       "      <th>page</th>\n",
       "      <th>registration</th>\n",
       "      <th>sessionId</th>\n",
       "      <th>song</th>\n",
       "      <th>status</th>\n",
       "      <th>ts</th>\n",
       "      <th>userAgent</th>\n",
       "      <th>userId</th>\n",
       "    </tr>\n",
       "  </thead>\n",
       "  <tbody>\n",
       "    <tr>\n",
       "      <th>144</th>\n",
       "      <td>The Police</td>\n",
       "      <td>Logged In</td>\n",
       "      <td>Chloe</td>\n",
       "      <td>F</td>\n",
       "      <td>5</td>\n",
       "      <td>Cuevas</td>\n",
       "      <td>289.85424</td>\n",
       "      <td>paid</td>\n",
       "      <td>San Francisco-Oakland-Hayward, CA</td>\n",
       "      <td>PUT</td>\n",
       "      <td>NextSong</td>\n",
       "      <td>1.540941e+12</td>\n",
       "      <td>680</td>\n",
       "      <td>So Lonely</td>\n",
       "      <td>200</td>\n",
       "      <td>1542498954796</td>\n",
       "      <td>Mozilla/5.0 (Windows NT 5.1; rv:31.0) Gecko/20...</td>\n",
       "      <td>49</td>\n",
       "    </tr>\n",
       "    <tr>\n",
       "      <th>145</th>\n",
       "      <td>Bitter:Sweet</td>\n",
       "      <td>Logged In</td>\n",
       "      <td>Jaleah</td>\n",
       "      <td>F</td>\n",
       "      <td>18</td>\n",
       "      <td>Hayes</td>\n",
       "      <td>160.78322</td>\n",
       "      <td>paid</td>\n",
       "      <td>San Antonio-New Braunfels, TX</td>\n",
       "      <td>PUT</td>\n",
       "      <td>NextSong</td>\n",
       "      <td>1.541003e+12</td>\n",
       "      <td>113</td>\n",
       "      <td>Take 2 Blue</td>\n",
       "      <td>200</td>\n",
       "      <td>1542499040796</td>\n",
       "      <td>Mozilla/5.0 (Windows NT 6.1; WOW64; rv:31.0) G...</td>\n",
       "      <td>70</td>\n",
       "    </tr>\n",
       "  </tbody>\n",
       "</table>\n",
       "</div>"
      ],
      "text/plain": [
       "           artist       auth firstName gender  itemInSession lastName  \\\n",
       "144    The Police  Logged In     Chloe      F              5   Cuevas   \n",
       "145  Bitter:Sweet  Logged In    Jaleah      F             18    Hayes   \n",
       "\n",
       "        length level                           location method      page  \\\n",
       "144  289.85424  paid  San Francisco-Oakland-Hayward, CA    PUT  NextSong   \n",
       "145  160.78322  paid      San Antonio-New Braunfels, TX    PUT  NextSong   \n",
       "\n",
       "     registration  sessionId         song  status             ts  \\\n",
       "144  1.540941e+12        680    So Lonely     200  1542498954796   \n",
       "145  1.541003e+12        113  Take 2 Blue     200  1542499040796   \n",
       "\n",
       "                                             userAgent userId  \n",
       "144  Mozilla/5.0 (Windows NT 5.1; rv:31.0) Gecko/20...     49  \n",
       "145  Mozilla/5.0 (Windows NT 6.1; WOW64; rv:31.0) G...     70  "
      ]
     },
     "execution_count": 32,
     "metadata": {},
     "output_type": "execute_result"
    }
   ],
   "source": [
    "log_df.tail(2)"
   ]
  },
  {
   "cell_type": "code",
   "execution_count": 33,
   "metadata": {
    "editable": true
   },
   "outputs": [
    {
     "data": {
      "text/plain": [
       "(8056, 18)"
      ]
     },
     "execution_count": 33,
     "metadata": {},
     "output_type": "execute_result"
    }
   ],
   "source": [
    "log_df.shape"
   ]
  },
  {
   "cell_type": "code",
   "execution_count": 34,
   "metadata": {
    "editable": true
   },
   "outputs": [],
   "source": [
    "\n",
    "log_df.artist = log_df.artist.str.upper()\n"
   ]
  },
  {
   "cell_type": "code",
   "execution_count": 35,
   "metadata": {
    "editable": true
   },
   "outputs": [],
   "source": [
    "log_df[\"ts\"] = log_df[\"ts\"].map(lambda x: datetime.datetime.fromtimestamp(x/1000.0))"
   ]
  },
  {
   "cell_type": "markdown",
   "metadata": {
    "editable": true
   },
   "source": [
    "## #3: `time` Table\n",
    "#### Extract Data for Time Table\n",
    "- Filter records by `NextSong` action\n",
    "- Convert the `ts` timestamp column to datetime\n",
    "  - Hint: the current timestamp is in milliseconds\n",
    "- Extract the timestamp, hour, day, week of year, month, year, and weekday from the `ts` column and set `time_data` to a list containing these values in order\n",
    "  - Hint: use pandas' [`dt` attribute](https://pandas.pydata.org/pandas-docs/stable/reference/api/pandas.Series.dt.html) to access easily datetimelike properties.\n",
    "- Specify labels for these columns and set to `column_labels`\n",
    "- Create a dataframe, `time_df,` containing the time data for this file by combining `column_labels` and `time_data` into a dictionary and converting this into a dataframe"
   ]
  },
  {
   "cell_type": "code",
   "execution_count": 36,
   "metadata": {
    "editable": true
   },
   "outputs": [],
   "source": [
    "df_next_song = log_df[log_df[\"page\"] == \"NextSong\"]"
   ]
  },
  {
   "cell_type": "code",
   "execution_count": 37,
   "metadata": {
    "editable": true
   },
   "outputs": [
    {
     "data": {
      "text/html": [
       "<div>\n",
       "<style scoped>\n",
       "    .dataframe tbody tr th:only-of-type {\n",
       "        vertical-align: middle;\n",
       "    }\n",
       "\n",
       "    .dataframe tbody tr th {\n",
       "        vertical-align: top;\n",
       "    }\n",
       "\n",
       "    .dataframe thead th {\n",
       "        text-align: right;\n",
       "    }\n",
       "</style>\n",
       "<table border=\"1\" class=\"dataframe\">\n",
       "  <thead>\n",
       "    <tr style=\"text-align: right;\">\n",
       "      <th></th>\n",
       "      <th>artist</th>\n",
       "      <th>auth</th>\n",
       "      <th>firstName</th>\n",
       "      <th>gender</th>\n",
       "      <th>itemInSession</th>\n",
       "      <th>lastName</th>\n",
       "      <th>length</th>\n",
       "      <th>level</th>\n",
       "      <th>location</th>\n",
       "      <th>method</th>\n",
       "      <th>page</th>\n",
       "      <th>registration</th>\n",
       "      <th>sessionId</th>\n",
       "      <th>song</th>\n",
       "      <th>status</th>\n",
       "      <th>ts</th>\n",
       "      <th>userAgent</th>\n",
       "      <th>userId</th>\n",
       "    </tr>\n",
       "  </thead>\n",
       "  <tbody>\n",
       "    <tr>\n",
       "      <th>0</th>\n",
       "      <td>STEPHEN LYNCH</td>\n",
       "      <td>Logged In</td>\n",
       "      <td>Jayden</td>\n",
       "      <td>M</td>\n",
       "      <td>0</td>\n",
       "      <td>Bell</td>\n",
       "      <td>182.85669</td>\n",
       "      <td>free</td>\n",
       "      <td>Dallas-Fort Worth-Arlington, TX</td>\n",
       "      <td>PUT</td>\n",
       "      <td>NextSong</td>\n",
       "      <td>1.540992e+12</td>\n",
       "      <td>829</td>\n",
       "      <td>Jim Henson's Dead</td>\n",
       "      <td>200</td>\n",
       "      <td>2018-11-30 00:22:07.796</td>\n",
       "      <td>Mozilla/5.0 (compatible; MSIE 10.0; Windows NT...</td>\n",
       "      <td>91</td>\n",
       "    </tr>\n",
       "    <tr>\n",
       "      <th>1</th>\n",
       "      <td>MANOWAR</td>\n",
       "      <td>Logged In</td>\n",
       "      <td>Jacob</td>\n",
       "      <td>M</td>\n",
       "      <td>0</td>\n",
       "      <td>Klein</td>\n",
       "      <td>247.56200</td>\n",
       "      <td>paid</td>\n",
       "      <td>Tampa-St. Petersburg-Clearwater, FL</td>\n",
       "      <td>PUT</td>\n",
       "      <td>NextSong</td>\n",
       "      <td>1.540558e+12</td>\n",
       "      <td>1049</td>\n",
       "      <td>Shell Shock</td>\n",
       "      <td>200</td>\n",
       "      <td>2018-11-30 01:08:41.796</td>\n",
       "      <td>\"Mozilla/5.0 (Macintosh; Intel Mac OS X 10_9_4...</td>\n",
       "      <td>73</td>\n",
       "    </tr>\n",
       "  </tbody>\n",
       "</table>\n",
       "</div>"
      ],
      "text/plain": [
       "          artist       auth firstName gender  itemInSession lastName  \\\n",
       "0  STEPHEN LYNCH  Logged In    Jayden      M              0     Bell   \n",
       "1        MANOWAR  Logged In     Jacob      M              0    Klein   \n",
       "\n",
       "      length level                             location method      page  \\\n",
       "0  182.85669  free      Dallas-Fort Worth-Arlington, TX    PUT  NextSong   \n",
       "1  247.56200  paid  Tampa-St. Petersburg-Clearwater, FL    PUT  NextSong   \n",
       "\n",
       "   registration  sessionId               song  status                      ts  \\\n",
       "0  1.540992e+12        829  Jim Henson's Dead     200 2018-11-30 00:22:07.796   \n",
       "1  1.540558e+12       1049        Shell Shock     200 2018-11-30 01:08:41.796   \n",
       "\n",
       "                                           userAgent userId  \n",
       "0  Mozilla/5.0 (compatible; MSIE 10.0; Windows NT...     91  \n",
       "1  \"Mozilla/5.0 (Macintosh; Intel Mac OS X 10_9_4...     73  "
      ]
     },
     "execution_count": 37,
     "metadata": {},
     "output_type": "execute_result"
    }
   ],
   "source": [
    "df_next_song.head(2)"
   ]
  },
  {
   "cell_type": "code",
   "execution_count": 38,
   "metadata": {
    "editable": true
   },
   "outputs": [],
   "source": [
    "#df_next_song[\"ts\"] = df_next_song[\"ts\"].map(lambda x: datetime.datetime.fromtimestamp(x/1000.0))"
   ]
  },
  {
   "cell_type": "code",
   "execution_count": 39,
   "metadata": {
    "editable": true
   },
   "outputs": [],
   "source": [
    "time_dict = {}\n",
    "column_labels = [\"song\",\"length\",\"start_time\",\"hour\", \"day\", \"week_of_year\", \"month\", \"year\",\"weekday\"]\n",
    "for key in column_labels:\n",
    "    time_dict[key] = []\n",
    "for index,item in df_next_song.iterrows():\n",
    "    time_dict[\"song\"].append(item[\"song\"].upper())\n",
    "    time_dict[\"length\"].append(item[\"length\"])\n",
    "    row = item[\"ts\"]\n",
    "    time_dict[\"start_time\"].append(row)\n",
    "    time_dict[\"hour\"].append(row.hour)\n",
    "    time_dict[\"day\"].append(row.day)\n",
    "    time_dict[\"week_of_year\"].append(row.isocalendar()[1])\n",
    "    time_dict[\"month\"].append(row.month)\n",
    "    time_dict[\"year\"].append(row.isocalendar()[0])\n",
    "    time_dict[\"weekday\"].append(row.isocalendar()[2])"
   ]
  },
  {
   "cell_type": "code",
   "execution_count": 40,
   "metadata": {
    "editable": true
   },
   "outputs": [
    {
     "data": {
      "text/html": [
       "<div>\n",
       "<style scoped>\n",
       "    .dataframe tbody tr th:only-of-type {\n",
       "        vertical-align: middle;\n",
       "    }\n",
       "\n",
       "    .dataframe tbody tr th {\n",
       "        vertical-align: top;\n",
       "    }\n",
       "\n",
       "    .dataframe thead th {\n",
       "        text-align: right;\n",
       "    }\n",
       "</style>\n",
       "<table border=\"1\" class=\"dataframe\">\n",
       "  <thead>\n",
       "    <tr style=\"text-align: right;\">\n",
       "      <th></th>\n",
       "      <th>artist</th>\n",
       "      <th>auth</th>\n",
       "      <th>firstName</th>\n",
       "      <th>gender</th>\n",
       "      <th>itemInSession</th>\n",
       "      <th>lastName</th>\n",
       "      <th>length</th>\n",
       "      <th>level</th>\n",
       "      <th>location</th>\n",
       "      <th>method</th>\n",
       "      <th>page</th>\n",
       "      <th>registration</th>\n",
       "      <th>sessionId</th>\n",
       "      <th>song</th>\n",
       "      <th>status</th>\n",
       "      <th>ts</th>\n",
       "      <th>userAgent</th>\n",
       "      <th>userId</th>\n",
       "    </tr>\n",
       "  </thead>\n",
       "  <tbody>\n",
       "    <tr>\n",
       "      <th>0</th>\n",
       "      <td>STEPHEN LYNCH</td>\n",
       "      <td>Logged In</td>\n",
       "      <td>Jayden</td>\n",
       "      <td>M</td>\n",
       "      <td>0</td>\n",
       "      <td>Bell</td>\n",
       "      <td>182.85669</td>\n",
       "      <td>free</td>\n",
       "      <td>Dallas-Fort Worth-Arlington, TX</td>\n",
       "      <td>PUT</td>\n",
       "      <td>NextSong</td>\n",
       "      <td>1.540992e+12</td>\n",
       "      <td>829</td>\n",
       "      <td>Jim Henson's Dead</td>\n",
       "      <td>200</td>\n",
       "      <td>2018-11-30 00:22:07.796</td>\n",
       "      <td>Mozilla/5.0 (compatible; MSIE 10.0; Windows NT...</td>\n",
       "      <td>91</td>\n",
       "    </tr>\n",
       "    <tr>\n",
       "      <th>1</th>\n",
       "      <td>MANOWAR</td>\n",
       "      <td>Logged In</td>\n",
       "      <td>Jacob</td>\n",
       "      <td>M</td>\n",
       "      <td>0</td>\n",
       "      <td>Klein</td>\n",
       "      <td>247.56200</td>\n",
       "      <td>paid</td>\n",
       "      <td>Tampa-St. Petersburg-Clearwater, FL</td>\n",
       "      <td>PUT</td>\n",
       "      <td>NextSong</td>\n",
       "      <td>1.540558e+12</td>\n",
       "      <td>1049</td>\n",
       "      <td>Shell Shock</td>\n",
       "      <td>200</td>\n",
       "      <td>2018-11-30 01:08:41.796</td>\n",
       "      <td>\"Mozilla/5.0 (Macintosh; Intel Mac OS X 10_9_4...</td>\n",
       "      <td>73</td>\n",
       "    </tr>\n",
       "  </tbody>\n",
       "</table>\n",
       "</div>"
      ],
      "text/plain": [
       "          artist       auth firstName gender  itemInSession lastName  \\\n",
       "0  STEPHEN LYNCH  Logged In    Jayden      M              0     Bell   \n",
       "1        MANOWAR  Logged In     Jacob      M              0    Klein   \n",
       "\n",
       "      length level                             location method      page  \\\n",
       "0  182.85669  free      Dallas-Fort Worth-Arlington, TX    PUT  NextSong   \n",
       "1  247.56200  paid  Tampa-St. Petersburg-Clearwater, FL    PUT  NextSong   \n",
       "\n",
       "   registration  sessionId               song  status                      ts  \\\n",
       "0  1.540992e+12        829  Jim Henson's Dead     200 2018-11-30 00:22:07.796   \n",
       "1  1.540558e+12       1049        Shell Shock     200 2018-11-30 01:08:41.796   \n",
       "\n",
       "                                           userAgent userId  \n",
       "0  Mozilla/5.0 (compatible; MSIE 10.0; Windows NT...     91  \n",
       "1  \"Mozilla/5.0 (Macintosh; Intel Mac OS X 10_9_4...     73  "
      ]
     },
     "execution_count": 40,
     "metadata": {},
     "output_type": "execute_result"
    }
   ],
   "source": [
    "df_next_song.head(2)"
   ]
  },
  {
   "cell_type": "code",
   "execution_count": 41,
   "metadata": {
    "editable": true
   },
   "outputs": [],
   "source": [
    "time_df = pd.DataFrame(time_dict)"
   ]
  },
  {
   "cell_type": "code",
   "execution_count": 42,
   "metadata": {
    "editable": true
   },
   "outputs": [],
   "source": [
    "time_df[\"start_time\"] = time_df[\"start_time\"].map(lambda x:x.strftime('%Y%m%d_%H%M%S'))"
   ]
  },
  {
   "cell_type": "code",
   "execution_count": 43,
   "metadata": {
    "editable": true
   },
   "outputs": [
    {
     "data": {
      "text/html": [
       "<div>\n",
       "<style scoped>\n",
       "    .dataframe tbody tr th:only-of-type {\n",
       "        vertical-align: middle;\n",
       "    }\n",
       "\n",
       "    .dataframe tbody tr th {\n",
       "        vertical-align: top;\n",
       "    }\n",
       "\n",
       "    .dataframe thead th {\n",
       "        text-align: right;\n",
       "    }\n",
       "</style>\n",
       "<table border=\"1\" class=\"dataframe\">\n",
       "  <thead>\n",
       "    <tr style=\"text-align: right;\">\n",
       "      <th></th>\n",
       "      <th>song</th>\n",
       "      <th>length</th>\n",
       "      <th>start_time</th>\n",
       "      <th>hour</th>\n",
       "      <th>day</th>\n",
       "      <th>week_of_year</th>\n",
       "      <th>month</th>\n",
       "      <th>year</th>\n",
       "      <th>weekday</th>\n",
       "    </tr>\n",
       "  </thead>\n",
       "  <tbody>\n",
       "    <tr>\n",
       "      <th>0</th>\n",
       "      <td>JIM HENSON'S DEAD</td>\n",
       "      <td>182.85669</td>\n",
       "      <td>20181130_002207</td>\n",
       "      <td>0</td>\n",
       "      <td>30</td>\n",
       "      <td>48</td>\n",
       "      <td>11</td>\n",
       "      <td>2018</td>\n",
       "      <td>5</td>\n",
       "    </tr>\n",
       "    <tr>\n",
       "      <th>1</th>\n",
       "      <td>SHELL SHOCK</td>\n",
       "      <td>247.56200</td>\n",
       "      <td>20181130_010841</td>\n",
       "      <td>1</td>\n",
       "      <td>30</td>\n",
       "      <td>48</td>\n",
       "      <td>11</td>\n",
       "      <td>2018</td>\n",
       "      <td>5</td>\n",
       "    </tr>\n",
       "    <tr>\n",
       "      <th>2</th>\n",
       "      <td>WOMEN LOSE WEIGHT (FEAT: SLICK RICK)</td>\n",
       "      <td>257.41016</td>\n",
       "      <td>20181130_011248</td>\n",
       "      <td>1</td>\n",
       "      <td>30</td>\n",
       "      <td>48</td>\n",
       "      <td>11</td>\n",
       "      <td>2018</td>\n",
       "      <td>5</td>\n",
       "    </tr>\n",
       "    <tr>\n",
       "      <th>3</th>\n",
       "      <td>WON'T GO HOME WITHOUT YOU</td>\n",
       "      <td>231.23546</td>\n",
       "      <td>20181130_011705</td>\n",
       "      <td>1</td>\n",
       "      <td>30</td>\n",
       "      <td>48</td>\n",
       "      <td>11</td>\n",
       "      <td>2018</td>\n",
       "      <td>5</td>\n",
       "    </tr>\n",
       "    <tr>\n",
       "      <th>4</th>\n",
       "      <td>HEY_ SOUL SISTER</td>\n",
       "      <td>216.76363</td>\n",
       "      <td>20181130_012056</td>\n",
       "      <td>1</td>\n",
       "      <td>30</td>\n",
       "      <td>48</td>\n",
       "      <td>11</td>\n",
       "      <td>2018</td>\n",
       "      <td>5</td>\n",
       "    </tr>\n",
       "  </tbody>\n",
       "</table>\n",
       "</div>"
      ],
      "text/plain": [
       "                                   song     length       start_time  hour  \\\n",
       "0                     JIM HENSON'S DEAD  182.85669  20181130_002207     0   \n",
       "1                           SHELL SHOCK  247.56200  20181130_010841     1   \n",
       "2  WOMEN LOSE WEIGHT (FEAT: SLICK RICK)  257.41016  20181130_011248     1   \n",
       "3             WON'T GO HOME WITHOUT YOU  231.23546  20181130_011705     1   \n",
       "4                      HEY_ SOUL SISTER  216.76363  20181130_012056     1   \n",
       "\n",
       "   day  week_of_year  month  year  weekday  \n",
       "0   30            48     11  2018        5  \n",
       "1   30            48     11  2018        5  \n",
       "2   30            48     11  2018        5  \n",
       "3   30            48     11  2018        5  \n",
       "4   30            48     11  2018        5  "
      ]
     },
     "execution_count": 43,
     "metadata": {},
     "output_type": "execute_result"
    }
   ],
   "source": [
    "time_df.head()"
   ]
  },
  {
   "cell_type": "code",
   "execution_count": 44,
   "metadata": {
    "editable": true
   },
   "outputs": [],
   "source": [
    "\"\"\"try: \n",
    "    cur.execute(\"DROP table {}\".format(time_table))\n",
    "except psycopg2.Error as e: \n",
    "    print(\"Error: Dropping table\")\n",
    "    print (e)\"\"\"\n",
    "\n",
    "try: \n",
    "    cur.execute(time_table_create)\n",
    "except psycopg2.Error as e: \n",
    "    print(\"Error: Issue creating table\")\n",
    "    print (e)"
   ]
  },
  {
   "cell_type": "raw",
   "metadata": {
    "editable": true
   },
   "source": [
    "#### Insert Records into Time Table\n",
    "Implement the `time_table_insert` query in `sql_queries.py` and run the cell below to insert records for the timestamps in this log file into the `time` table. Remember to run `create_tables.py` before running the cell below to ensure you've created/resetted the `time` table in the sparkify database."
   ]
  },
  {
   "cell_type": "code",
   "execution_count": 45,
   "metadata": {
    "editable": true
   },
   "outputs": [
    {
     "data": {
      "text/html": [
       "<div>\n",
       "<style scoped>\n",
       "    .dataframe tbody tr th:only-of-type {\n",
       "        vertical-align: middle;\n",
       "    }\n",
       "\n",
       "    .dataframe tbody tr th {\n",
       "        vertical-align: top;\n",
       "    }\n",
       "\n",
       "    .dataframe thead th {\n",
       "        text-align: right;\n",
       "    }\n",
       "</style>\n",
       "<table border=\"1\" class=\"dataframe\">\n",
       "  <thead>\n",
       "    <tr style=\"text-align: right;\">\n",
       "      <th></th>\n",
       "      <th>song</th>\n",
       "      <th>length</th>\n",
       "      <th>start_time</th>\n",
       "      <th>hour</th>\n",
       "      <th>day</th>\n",
       "      <th>week_of_year</th>\n",
       "      <th>month</th>\n",
       "      <th>year</th>\n",
       "      <th>weekday</th>\n",
       "    </tr>\n",
       "  </thead>\n",
       "  <tbody>\n",
       "    <tr>\n",
       "      <th>0</th>\n",
       "      <td>JIM HENSON'S DEAD</td>\n",
       "      <td>182.85669</td>\n",
       "      <td>20181130_002207</td>\n",
       "      <td>0</td>\n",
       "      <td>30</td>\n",
       "      <td>48</td>\n",
       "      <td>11</td>\n",
       "      <td>2018</td>\n",
       "      <td>5</td>\n",
       "    </tr>\n",
       "    <tr>\n",
       "      <th>1</th>\n",
       "      <td>SHELL SHOCK</td>\n",
       "      <td>247.56200</td>\n",
       "      <td>20181130_010841</td>\n",
       "      <td>1</td>\n",
       "      <td>30</td>\n",
       "      <td>48</td>\n",
       "      <td>11</td>\n",
       "      <td>2018</td>\n",
       "      <td>5</td>\n",
       "    </tr>\n",
       "    <tr>\n",
       "      <th>2</th>\n",
       "      <td>WOMEN LOSE WEIGHT (FEAT: SLICK RICK)</td>\n",
       "      <td>257.41016</td>\n",
       "      <td>20181130_011248</td>\n",
       "      <td>1</td>\n",
       "      <td>30</td>\n",
       "      <td>48</td>\n",
       "      <td>11</td>\n",
       "      <td>2018</td>\n",
       "      <td>5</td>\n",
       "    </tr>\n",
       "    <tr>\n",
       "      <th>3</th>\n",
       "      <td>WON'T GO HOME WITHOUT YOU</td>\n",
       "      <td>231.23546</td>\n",
       "      <td>20181130_011705</td>\n",
       "      <td>1</td>\n",
       "      <td>30</td>\n",
       "      <td>48</td>\n",
       "      <td>11</td>\n",
       "      <td>2018</td>\n",
       "      <td>5</td>\n",
       "    </tr>\n",
       "    <tr>\n",
       "      <th>4</th>\n",
       "      <td>HEY_ SOUL SISTER</td>\n",
       "      <td>216.76363</td>\n",
       "      <td>20181130_012056</td>\n",
       "      <td>1</td>\n",
       "      <td>30</td>\n",
       "      <td>48</td>\n",
       "      <td>11</td>\n",
       "      <td>2018</td>\n",
       "      <td>5</td>\n",
       "    </tr>\n",
       "  </tbody>\n",
       "</table>\n",
       "</div>"
      ],
      "text/plain": [
       "                                   song     length       start_time  hour  \\\n",
       "0                     JIM HENSON'S DEAD  182.85669  20181130_002207     0   \n",
       "1                           SHELL SHOCK  247.56200  20181130_010841     1   \n",
       "2  WOMEN LOSE WEIGHT (FEAT: SLICK RICK)  257.41016  20181130_011248     1   \n",
       "3             WON'T GO HOME WITHOUT YOU  231.23546  20181130_011705     1   \n",
       "4                      HEY_ SOUL SISTER  216.76363  20181130_012056     1   \n",
       "\n",
       "   day  week_of_year  month  year  weekday  \n",
       "0   30            48     11  2018        5  \n",
       "1   30            48     11  2018        5  \n",
       "2   30            48     11  2018        5  \n",
       "3   30            48     11  2018        5  \n",
       "4   30            48     11  2018        5  "
      ]
     },
     "execution_count": 45,
     "metadata": {},
     "output_type": "execute_result"
    }
   ],
   "source": [
    "time_df.head()"
   ]
  },
  {
   "cell_type": "code",
   "execution_count": 46,
   "metadata": {
    "editable": true
   },
   "outputs": [],
   "source": [
    "for row in time_df.itertuples(index=False):\n",
    "    #print((time_table_insert, tuple(list(row))))\n",
    "    cur.execute(time_table_insert,tuple(list(row)))\n",
    "    conn.commit()"
   ]
  },
  {
   "cell_type": "markdown",
   "metadata": {
    "editable": true
   },
   "source": [
    "Run `test.ipynb` to see if you've successfully added records to this table."
   ]
  },
  {
   "cell_type": "markdown",
   "metadata": {
    "editable": true
   },
   "source": [
    "## #4: `users` Table\n",
    "#### Extract Data for Users Table\n",
    "- Select columns for user ID, first name, last name, gender and level and set to `user_df`"
   ]
  },
  {
   "cell_type": "code",
   "execution_count": 47,
   "metadata": {
    "editable": true
   },
   "outputs": [],
   "source": [
    "user_df = df_next_song[[\"userId\",\"firstName\", \"lastName\",\"gender\",\"level\"]]"
   ]
  },
  {
   "cell_type": "code",
   "execution_count": 48,
   "metadata": {
    "editable": true
   },
   "outputs": [
    {
     "data": {
      "text/html": [
       "<div>\n",
       "<style scoped>\n",
       "    .dataframe tbody tr th:only-of-type {\n",
       "        vertical-align: middle;\n",
       "    }\n",
       "\n",
       "    .dataframe tbody tr th {\n",
       "        vertical-align: top;\n",
       "    }\n",
       "\n",
       "    .dataframe thead th {\n",
       "        text-align: right;\n",
       "    }\n",
       "</style>\n",
       "<table border=\"1\" class=\"dataframe\">\n",
       "  <thead>\n",
       "    <tr style=\"text-align: right;\">\n",
       "      <th></th>\n",
       "      <th>userId</th>\n",
       "      <th>firstName</th>\n",
       "      <th>lastName</th>\n",
       "      <th>gender</th>\n",
       "      <th>level</th>\n",
       "    </tr>\n",
       "  </thead>\n",
       "  <tbody>\n",
       "    <tr>\n",
       "      <th>0</th>\n",
       "      <td>91</td>\n",
       "      <td>Jayden</td>\n",
       "      <td>Bell</td>\n",
       "      <td>M</td>\n",
       "      <td>free</td>\n",
       "    </tr>\n",
       "    <tr>\n",
       "      <th>1</th>\n",
       "      <td>73</td>\n",
       "      <td>Jacob</td>\n",
       "      <td>Klein</td>\n",
       "      <td>M</td>\n",
       "      <td>paid</td>\n",
       "    </tr>\n",
       "  </tbody>\n",
       "</table>\n",
       "</div>"
      ],
      "text/plain": [
       "  userId firstName lastName gender level\n",
       "0     91    Jayden     Bell      M  free\n",
       "1     73     Jacob    Klein      M  paid"
      ]
     },
     "execution_count": 48,
     "metadata": {},
     "output_type": "execute_result"
    }
   ],
   "source": [
    "user_df.head(2)"
   ]
  },
  {
   "cell_type": "code",
   "execution_count": 49,
   "metadata": {
    "editable": true
   },
   "outputs": [],
   "source": [
    "try: \n",
    "    cur.execute(user_table_create)\n",
    "except psycopg2.Error as e: \n",
    "    print(\"Error: Issue creating table\")\n",
    "    print (e)"
   ]
  },
  {
   "cell_type": "markdown",
   "metadata": {
    "editable": true
   },
   "source": [
    "#### Insert Records into Users Table\n",
    "Implement the `user_table_insert` query in `sql_queries.py` and run the cell below to insert records for the users in this log file into the `users` table. Remember to run `create_tables.py` before running the cell below to ensure you've created/resetted the `users` table in the sparkify database."
   ]
  },
  {
   "cell_type": "raw",
   "metadata": {
    "editable": true
   },
   "source": [
    "cols_user = [\"user_id\", \"firstName\", \"lastName\", \"gender\",\"level\"]\n",
    "user_table_insert = (\"\"\"INSERT INTO {table} ({columns}) \\\n",
    "                 VALUES (%s, %s, %s, %s, %s )\n",
    "\"\"\".format(table= user_table,columns=\",\".join(cols_user)))\n"
   ]
  },
  {
   "cell_type": "code",
   "execution_count": 50,
   "metadata": {
    "editable": true
   },
   "outputs": [],
   "source": [
    "for row in user_df.itertuples(index=False):\n",
    "    #print((user_table_insert, tuple(list(row))))\n",
    "    cur.execute(user_table_insert,tuple(list(row)) )\n",
    "    conn.commit()"
   ]
  },
  {
   "cell_type": "markdown",
   "metadata": {
    "editable": true
   },
   "source": [
    "Run `test.ipynb` to see if you've successfully added records to this table."
   ]
  },
  {
   "cell_type": "markdown",
   "metadata": {
    "editable": true
   },
   "source": [
    "## #5: `songplays` Table\n",
    "#### Extract Data and Songplays Table\n",
    "This one is a little more complicated since information from the songs table, artists table, and original log file are all needed for the `songplays` table. Since the log file does not specify an ID for either the song or the artist, you'll need to get the song ID and artist ID by querying the songs and artists tables to find matches based on song title, artist name, and song duration time.\n",
    "- Implement the `song_select` query in `sql_queries.py` to find the song ID and artist ID based on the title, artist name, and duration of a song.\n",
    "- Select the timestamp, user ID, level, song ID, artist ID, session ID, location, and user agent and set to `songplay_data`\n",
    "\n",
    "#### Insert Records into Songplays Table\n",
    "- Implement the `songplay_table_insert` query and run the cell below to insert records for the songplay actions in this log file into the `songplays` table. Remember to run `create_tables.py` before running the cell below to ensure you've created/resetted the `songplays` table in the sparkify database."
   ]
  },
  {
   "cell_type": "code",
   "execution_count": 51,
   "metadata": {
    "editable": true
   },
   "outputs": [
    {
     "data": {
      "text/html": [
       "<div>\n",
       "<style scoped>\n",
       "    .dataframe tbody tr th:only-of-type {\n",
       "        vertical-align: middle;\n",
       "    }\n",
       "\n",
       "    .dataframe tbody tr th {\n",
       "        vertical-align: top;\n",
       "    }\n",
       "\n",
       "    .dataframe thead th {\n",
       "        text-align: right;\n",
       "    }\n",
       "</style>\n",
       "<table border=\"1\" class=\"dataframe\">\n",
       "  <thead>\n",
       "    <tr style=\"text-align: right;\">\n",
       "      <th></th>\n",
       "      <th>artist_id</th>\n",
       "      <th>artist_latitude</th>\n",
       "      <th>artist_location</th>\n",
       "      <th>artist_longitude</th>\n",
       "      <th>artist_name</th>\n",
       "      <th>duration</th>\n",
       "      <th>num_songs</th>\n",
       "      <th>song_id</th>\n",
       "      <th>title</th>\n",
       "      <th>year</th>\n",
       "    </tr>\n",
       "  </thead>\n",
       "  <tbody>\n",
       "    <tr>\n",
       "      <th>0</th>\n",
       "      <td>ARD7TVE1187B99BFB1</td>\n",
       "      <td>NaN</td>\n",
       "      <td>California - LA</td>\n",
       "      <td>NaN</td>\n",
       "      <td>CASUAL</td>\n",
       "      <td>218.93179</td>\n",
       "      <td>1</td>\n",
       "      <td>SOMZWCG12A8C13C480</td>\n",
       "      <td>I DIDN'T MEAN TO</td>\n",
       "      <td>0</td>\n",
       "    </tr>\n",
       "    <tr>\n",
       "      <th>1</th>\n",
       "      <td>ARNTLGG11E2835DDB9</td>\n",
       "      <td>NaN</td>\n",
       "      <td></td>\n",
       "      <td>NaN</td>\n",
       "      <td>CLP</td>\n",
       "      <td>266.39628</td>\n",
       "      <td>1</td>\n",
       "      <td>SOUDSGM12AC9618304</td>\n",
       "      <td>INSATIABLE (INSTRUMENTAL VERSION)</td>\n",
       "      <td>0</td>\n",
       "    </tr>\n",
       "  </tbody>\n",
       "</table>\n",
       "</div>"
      ],
      "text/plain": [
       "            artist_id  artist_latitude  artist_location  artist_longitude  \\\n",
       "0  ARD7TVE1187B99BFB1              NaN  California - LA               NaN   \n",
       "1  ARNTLGG11E2835DDB9              NaN                                NaN   \n",
       "\n",
       "  artist_name   duration  num_songs             song_id  \\\n",
       "0      CASUAL  218.93179          1  SOMZWCG12A8C13C480   \n",
       "1         CLP  266.39628          1  SOUDSGM12AC9618304   \n",
       "\n",
       "                               title  year  \n",
       "0                   I DIDN'T MEAN TO     0  \n",
       "1  INSATIABLE (INSTRUMENTAL VERSION)     0  "
      ]
     },
     "execution_count": 51,
     "metadata": {},
     "output_type": "execute_result"
    }
   ],
   "source": [
    "df.head(2)"
   ]
  },
  {
   "cell_type": "code",
   "execution_count": 52,
   "metadata": {
    "editable": true
   },
   "outputs": [],
   "source": [
    "#artist_df.artist_name = artist_df.artist_name.str.upper()"
   ]
  },
  {
   "cell_type": "code",
   "execution_count": 53,
   "metadata": {
    "editable": true
   },
   "outputs": [],
   "source": [
    "log_df.artist = log_df.artist.str.upper()"
   ]
  },
  {
   "cell_type": "code",
   "execution_count": 54,
   "metadata": {
    "editable": true
   },
   "outputs": [
    {
     "data": {
      "text/html": [
       "<div>\n",
       "<style scoped>\n",
       "    .dataframe tbody tr th:only-of-type {\n",
       "        vertical-align: middle;\n",
       "    }\n",
       "\n",
       "    .dataframe tbody tr th {\n",
       "        vertical-align: top;\n",
       "    }\n",
       "\n",
       "    .dataframe thead th {\n",
       "        text-align: right;\n",
       "    }\n",
       "</style>\n",
       "<table border=\"1\" class=\"dataframe\">\n",
       "  <thead>\n",
       "    <tr style=\"text-align: right;\">\n",
       "      <th></th>\n",
       "      <th>artist</th>\n",
       "      <th>auth</th>\n",
       "      <th>firstName</th>\n",
       "      <th>gender</th>\n",
       "      <th>itemInSession</th>\n",
       "      <th>lastName</th>\n",
       "      <th>length</th>\n",
       "      <th>level</th>\n",
       "      <th>location</th>\n",
       "      <th>method</th>\n",
       "      <th>page</th>\n",
       "      <th>registration</th>\n",
       "      <th>sessionId</th>\n",
       "      <th>song</th>\n",
       "      <th>status</th>\n",
       "      <th>ts</th>\n",
       "      <th>userAgent</th>\n",
       "      <th>userId</th>\n",
       "    </tr>\n",
       "  </thead>\n",
       "  <tbody>\n",
       "    <tr>\n",
       "      <th>0</th>\n",
       "      <td>STEPHEN LYNCH</td>\n",
       "      <td>Logged In</td>\n",
       "      <td>Jayden</td>\n",
       "      <td>M</td>\n",
       "      <td>0</td>\n",
       "      <td>Bell</td>\n",
       "      <td>182.85669</td>\n",
       "      <td>free</td>\n",
       "      <td>Dallas-Fort Worth-Arlington, TX</td>\n",
       "      <td>PUT</td>\n",
       "      <td>NextSong</td>\n",
       "      <td>1.540992e+12</td>\n",
       "      <td>829</td>\n",
       "      <td>Jim Henson's Dead</td>\n",
       "      <td>200</td>\n",
       "      <td>2018-11-30 00:22:07.796</td>\n",
       "      <td>Mozilla/5.0 (compatible; MSIE 10.0; Windows NT...</td>\n",
       "      <td>91</td>\n",
       "    </tr>\n",
       "    <tr>\n",
       "      <th>1</th>\n",
       "      <td>MANOWAR</td>\n",
       "      <td>Logged In</td>\n",
       "      <td>Jacob</td>\n",
       "      <td>M</td>\n",
       "      <td>0</td>\n",
       "      <td>Klein</td>\n",
       "      <td>247.56200</td>\n",
       "      <td>paid</td>\n",
       "      <td>Tampa-St. Petersburg-Clearwater, FL</td>\n",
       "      <td>PUT</td>\n",
       "      <td>NextSong</td>\n",
       "      <td>1.540558e+12</td>\n",
       "      <td>1049</td>\n",
       "      <td>Shell Shock</td>\n",
       "      <td>200</td>\n",
       "      <td>2018-11-30 01:08:41.796</td>\n",
       "      <td>\"Mozilla/5.0 (Macintosh; Intel Mac OS X 10_9_4...</td>\n",
       "      <td>73</td>\n",
       "    </tr>\n",
       "  </tbody>\n",
       "</table>\n",
       "</div>"
      ],
      "text/plain": [
       "          artist       auth firstName gender  itemInSession lastName  \\\n",
       "0  STEPHEN LYNCH  Logged In    Jayden      M              0     Bell   \n",
       "1        MANOWAR  Logged In     Jacob      M              0    Klein   \n",
       "\n",
       "      length level                             location method      page  \\\n",
       "0  182.85669  free      Dallas-Fort Worth-Arlington, TX    PUT  NextSong   \n",
       "1  247.56200  paid  Tampa-St. Petersburg-Clearwater, FL    PUT  NextSong   \n",
       "\n",
       "   registration  sessionId               song  status                      ts  \\\n",
       "0  1.540992e+12        829  Jim Henson's Dead     200 2018-11-30 00:22:07.796   \n",
       "1  1.540558e+12       1049        Shell Shock     200 2018-11-30 01:08:41.796   \n",
       "\n",
       "                                           userAgent userId  \n",
       "0  Mozilla/5.0 (compatible; MSIE 10.0; Windows NT...     91  \n",
       "1  \"Mozilla/5.0 (Macintosh; Intel Mac OS X 10_9_4...     73  "
      ]
     },
     "execution_count": 54,
     "metadata": {},
     "output_type": "execute_result"
    }
   ],
   "source": [
    "log_df.head(2)"
   ]
  },
  {
   "cell_type": "code",
   "execution_count": 55,
   "metadata": {
    "editable": true
   },
   "outputs": [],
   "source": [
    "#pd.merge(artist_df,log_df,left_on=\"artist_name\",right_on=\"artist\")"
   ]
  },
  {
   "cell_type": "code",
   "execution_count": 56,
   "metadata": {
    "editable": true
   },
   "outputs": [
    {
     "data": {
      "text/html": [
       "<div>\n",
       "<style scoped>\n",
       "    .dataframe tbody tr th:only-of-type {\n",
       "        vertical-align: middle;\n",
       "    }\n",
       "\n",
       "    .dataframe tbody tr th {\n",
       "        vertical-align: top;\n",
       "    }\n",
       "\n",
       "    .dataframe thead th {\n",
       "        text-align: right;\n",
       "    }\n",
       "</style>\n",
       "<table border=\"1\" class=\"dataframe\">\n",
       "  <thead>\n",
       "    <tr style=\"text-align: right;\">\n",
       "      <th></th>\n",
       "      <th>artist</th>\n",
       "      <th>auth</th>\n",
       "      <th>firstName</th>\n",
       "      <th>gender</th>\n",
       "      <th>itemInSession</th>\n",
       "      <th>lastName</th>\n",
       "      <th>length</th>\n",
       "      <th>level</th>\n",
       "      <th>location</th>\n",
       "      <th>method</th>\n",
       "      <th>page</th>\n",
       "      <th>registration</th>\n",
       "      <th>sessionId</th>\n",
       "      <th>song</th>\n",
       "      <th>status</th>\n",
       "      <th>ts</th>\n",
       "      <th>userAgent</th>\n",
       "      <th>userId</th>\n",
       "    </tr>\n",
       "  </thead>\n",
       "  <tbody>\n",
       "    <tr>\n",
       "      <th>0</th>\n",
       "      <td>STEPHEN LYNCH</td>\n",
       "      <td>Logged In</td>\n",
       "      <td>Jayden</td>\n",
       "      <td>M</td>\n",
       "      <td>0</td>\n",
       "      <td>Bell</td>\n",
       "      <td>182.85669</td>\n",
       "      <td>free</td>\n",
       "      <td>Dallas-Fort Worth-Arlington, TX</td>\n",
       "      <td>PUT</td>\n",
       "      <td>NextSong</td>\n",
       "      <td>1.540992e+12</td>\n",
       "      <td>829</td>\n",
       "      <td>Jim Henson's Dead</td>\n",
       "      <td>200</td>\n",
       "      <td>2018-11-30 00:22:07.796</td>\n",
       "      <td>Mozilla/5.0 (compatible; MSIE 10.0; Windows NT...</td>\n",
       "      <td>91</td>\n",
       "    </tr>\n",
       "    <tr>\n",
       "      <th>1</th>\n",
       "      <td>MANOWAR</td>\n",
       "      <td>Logged In</td>\n",
       "      <td>Jacob</td>\n",
       "      <td>M</td>\n",
       "      <td>0</td>\n",
       "      <td>Klein</td>\n",
       "      <td>247.56200</td>\n",
       "      <td>paid</td>\n",
       "      <td>Tampa-St. Petersburg-Clearwater, FL</td>\n",
       "      <td>PUT</td>\n",
       "      <td>NextSong</td>\n",
       "      <td>1.540558e+12</td>\n",
       "      <td>1049</td>\n",
       "      <td>Shell Shock</td>\n",
       "      <td>200</td>\n",
       "      <td>2018-11-30 01:08:41.796</td>\n",
       "      <td>\"Mozilla/5.0 (Macintosh; Intel Mac OS X 10_9_4...</td>\n",
       "      <td>73</td>\n",
       "    </tr>\n",
       "  </tbody>\n",
       "</table>\n",
       "</div>"
      ],
      "text/plain": [
       "          artist       auth firstName gender  itemInSession lastName  \\\n",
       "0  STEPHEN LYNCH  Logged In    Jayden      M              0     Bell   \n",
       "1        MANOWAR  Logged In     Jacob      M              0    Klein   \n",
       "\n",
       "      length level                             location method      page  \\\n",
       "0  182.85669  free      Dallas-Fort Worth-Arlington, TX    PUT  NextSong   \n",
       "1  247.56200  paid  Tampa-St. Petersburg-Clearwater, FL    PUT  NextSong   \n",
       "\n",
       "   registration  sessionId               song  status                      ts  \\\n",
       "0  1.540992e+12        829  Jim Henson's Dead     200 2018-11-30 00:22:07.796   \n",
       "1  1.540558e+12       1049        Shell Shock     200 2018-11-30 01:08:41.796   \n",
       "\n",
       "                                           userAgent userId  \n",
       "0  Mozilla/5.0 (compatible; MSIE 10.0; Windows NT...     91  \n",
       "1  \"Mozilla/5.0 (Macintosh; Intel Mac OS X 10_9_4...     73  "
      ]
     },
     "execution_count": 56,
     "metadata": {},
     "output_type": "execute_result"
    }
   ],
   "source": [
    "log_df.head(2)"
   ]
  },
  {
   "cell_type": "code",
   "execution_count": 57,
   "metadata": {
    "editable": true
   },
   "outputs": [
    {
     "data": {
      "text/html": [
       "<div>\n",
       "<style scoped>\n",
       "    .dataframe tbody tr th:only-of-type {\n",
       "        vertical-align: middle;\n",
       "    }\n",
       "\n",
       "    .dataframe tbody tr th {\n",
       "        vertical-align: top;\n",
       "    }\n",
       "\n",
       "    .dataframe thead th {\n",
       "        text-align: right;\n",
       "    }\n",
       "</style>\n",
       "<table border=\"1\" class=\"dataframe\">\n",
       "  <thead>\n",
       "    <tr style=\"text-align: right;\">\n",
       "      <th></th>\n",
       "      <th>artist_id</th>\n",
       "      <th>artist_name</th>\n",
       "      <th>artist_location</th>\n",
       "      <th>artist_latitude</th>\n",
       "      <th>artist_longitude</th>\n",
       "    </tr>\n",
       "  </thead>\n",
       "  <tbody>\n",
       "    <tr>\n",
       "      <th>0</th>\n",
       "      <td>ARD7TVE1187B99BFB1</td>\n",
       "      <td>CASUAL</td>\n",
       "      <td>California - LA</td>\n",
       "      <td>NaN</td>\n",
       "      <td>NaN</td>\n",
       "    </tr>\n",
       "    <tr>\n",
       "      <th>1</th>\n",
       "      <td>ARNTLGG11E2835DDB9</td>\n",
       "      <td>CLP</td>\n",
       "      <td></td>\n",
       "      <td>NaN</td>\n",
       "      <td>NaN</td>\n",
       "    </tr>\n",
       "  </tbody>\n",
       "</table>\n",
       "</div>"
      ],
      "text/plain": [
       "            artist_id artist_name  artist_location  artist_latitude  \\\n",
       "0  ARD7TVE1187B99BFB1      CASUAL  California - LA              NaN   \n",
       "1  ARNTLGG11E2835DDB9         CLP                               NaN   \n",
       "\n",
       "   artist_longitude  \n",
       "0               NaN  \n",
       "1               NaN  "
      ]
     },
     "execution_count": 57,
     "metadata": {},
     "output_type": "execute_result"
    }
   ],
   "source": [
    "artist_df.head(2)"
   ]
  },
  {
   "cell_type": "code",
   "execution_count": 58,
   "metadata": {
    "editable": true
   },
   "outputs": [],
   "source": [
    "try:\n",
    "    conn.close()\n",
    "    conn = psycopg2.connect(\"host=127.0.0.1 dbname=sparkifydb user=student password=student\")\n",
    "    cur = conn.cursor()\n",
    "except:\n",
    "    conn = psycopg2.connect(\"host=127.0.0.1 dbname=sparkifydb user=student password=student\")\n",
    "    cur = conn.cursor()"
   ]
  },
  {
   "cell_type": "code",
   "execution_count": 59,
   "metadata": {
    "editable": true
   },
   "outputs": [
    {
     "ename": "SyntaxError",
     "evalue": "invalid syntax (<ipython-input-59-c5d5a5409b8b>, line 3)",
     "output_type": "error",
     "traceback": [
      "\u001b[0;36m  File \u001b[0;32m\"<ipython-input-59-c5d5a5409b8b>\"\u001b[0;36m, line \u001b[0;32m3\u001b[0m\n\u001b[0;31m    songplay_table_insert = (\"\"\"INSERT INTO {table} ({columns}) \\\u001b[0m\n\u001b[0m                                                                 \n^\u001b[0m\n\u001b[0;31mSyntaxError\u001b[0m\u001b[0;31m:\u001b[0m invalid syntax\n"
     ]
    }
   ],
   "source": [
    "\"\"\"cols_songplay = [\"start_time\", \"user_id\", \"level\", \"song_id\",\"artist_id\", \"session_id\", \"location\", \"user_agent\"]\n",
    "values = len(cols_songplay) * [\"%s\"]\n",
    "songplay_table_insert = (\"\"\"INSERT INTO {table} ({columns}) \\\n",
    "               VALUES (%s, %s, %s, %s, %s, %s, %s, %s) \\\n",
    "                 \n",
    "\"\"\".format(table = songplay_table,columns=\",\".join(cols_songplay)))\"\"\"\n"
   ]
  },
  {
   "cell_type": "code",
   "execution_count": 60,
   "metadata": {
    "editable": true
   },
   "outputs": [],
   "source": [
    "\n",
    "\n",
    "#songplay_table_create = (\"\"\"CREATE TABLE IF NOT EXISTS {table_name} (start_time varchar, user_id int, level varchar, song_id varchar,\n",
    "#artist_id varchar, session_id int, location varchar, user_agent varchar);\n",
    "#\"\"\".format(table_name = songplay_table))\n",
    "\n",
    "\n",
    "\"\"\"try: \n",
    "    cur.execute(\"DROP table {}\".format(songplay_table))\n",
    "except psycopg2.Error as e: \n",
    "    print(\"Error: Dropping table\")\n",
    "    print (e)\"\"\"\n",
    "\n",
    "try: \n",
    "    cur.execute(songplay_table_create)\n",
    "except psycopg2.Error as e: \n",
    "    print(\"Error: Issue creating table\")\n",
    "    print (e)"
   ]
  },
  {
   "cell_type": "code",
   "execution_count": 61,
   "metadata": {
    "editable": true
   },
   "outputs": [
    {
     "data": {
      "text/plain": [
       "'select song_id, artist_id from (SELECT  artist_id,  song_id,  duration,  title as song,  name as artist  from artists  INNER JOIN songs using(artist_id) ) A\\nwhere artist = %s and song = %s\\nand duration = %s\\n'"
      ]
     },
     "execution_count": 61,
     "metadata": {},
     "output_type": "execute_result"
    }
   ],
   "source": [
    "song_select"
   ]
  },
  {
   "cell_type": "code",
   "execution_count": 70,
   "metadata": {
    "editable": true
   },
   "outputs": [],
   "source": [
    "a =pd.merge(artist_df,song_df, on= \"artist_id\").drop_duplicates()"
   ]
  },
  {
   "cell_type": "code",
   "execution_count": 71,
   "metadata": {
    "editable": true
   },
   "outputs": [
    {
     "data": {
      "text/html": [
       "<div>\n",
       "<style scoped>\n",
       "    .dataframe tbody tr th:only-of-type {\n",
       "        vertical-align: middle;\n",
       "    }\n",
       "\n",
       "    .dataframe tbody tr th {\n",
       "        vertical-align: top;\n",
       "    }\n",
       "\n",
       "    .dataframe thead th {\n",
       "        text-align: right;\n",
       "    }\n",
       "</style>\n",
       "<table border=\"1\" class=\"dataframe\">\n",
       "  <thead>\n",
       "    <tr style=\"text-align: right;\">\n",
       "      <th></th>\n",
       "      <th>artist_id</th>\n",
       "      <th>artist_name</th>\n",
       "      <th>artist_location</th>\n",
       "      <th>artist_latitude</th>\n",
       "      <th>artist_longitude</th>\n",
       "      <th>song_id</th>\n",
       "      <th>title</th>\n",
       "      <th>year</th>\n",
       "      <th>duration</th>\n",
       "    </tr>\n",
       "  </thead>\n",
       "  <tbody>\n",
       "    <tr>\n",
       "      <th>0</th>\n",
       "      <td>ARD7TVE1187B99BFB1</td>\n",
       "      <td>CASUAL</td>\n",
       "      <td>California - LA</td>\n",
       "      <td>NaN</td>\n",
       "      <td>NaN</td>\n",
       "      <td>SOMZWCG12A8C13C480</td>\n",
       "      <td>I DIDN'T MEAN TO</td>\n",
       "      <td>0</td>\n",
       "      <td>218.93179</td>\n",
       "    </tr>\n",
       "    <tr>\n",
       "      <th>2</th>\n",
       "      <td>ARD7TVE1187B99BFB1</td>\n",
       "      <td>CASUAL</td>\n",
       "      <td>California - LA</td>\n",
       "      <td>NaN</td>\n",
       "      <td>NaN</td>\n",
       "      <td>SOQLGFP12A58A7800E</td>\n",
       "      <td>OAKTOWN</td>\n",
       "      <td>0</td>\n",
       "      <td>259.44771</td>\n",
       "    </tr>\n",
       "    <tr>\n",
       "      <th>9</th>\n",
       "      <td>ARNTLGG11E2835DDB9</td>\n",
       "      <td>CLP</td>\n",
       "      <td></td>\n",
       "      <td>NaN</td>\n",
       "      <td>NaN</td>\n",
       "      <td>SOUDSGM12AC9618304</td>\n",
       "      <td>INSATIABLE (INSTRUMENTAL VERSION)</td>\n",
       "      <td>0</td>\n",
       "      <td>266.39628</td>\n",
       "    </tr>\n",
       "    <tr>\n",
       "      <th>10</th>\n",
       "      <td>ARNTLGG11E2835DDB9</td>\n",
       "      <td>CLP</td>\n",
       "      <td></td>\n",
       "      <td>NaN</td>\n",
       "      <td>NaN</td>\n",
       "      <td>SOZQDIU12A58A7BCF6</td>\n",
       "      <td>SUPERCONFIDENTIAL</td>\n",
       "      <td>0</td>\n",
       "      <td>338.31138</td>\n",
       "    </tr>\n",
       "    <tr>\n",
       "      <th>13</th>\n",
       "      <td>AR8ZCNI1187B9A069B</td>\n",
       "      <td>PLANET P PROJECT</td>\n",
       "      <td></td>\n",
       "      <td>NaN</td>\n",
       "      <td>NaN</td>\n",
       "      <td>SOIAZJW12AB01853F1</td>\n",
       "      <td>PINK WORLD</td>\n",
       "      <td>1984</td>\n",
       "      <td>269.81832</td>\n",
       "    </tr>\n",
       "    <tr>\n",
       "      <th>14</th>\n",
       "      <td>AR10USD1187B99F3F1</td>\n",
       "      <td>TWEETERFRIENDLY MUSIC</td>\n",
       "      <td>Burlington, Ontario, Canada</td>\n",
       "      <td>NaN</td>\n",
       "      <td>NaN</td>\n",
       "      <td>SOHKNRJ12A6701D1F8</td>\n",
       "      <td>DROP OF RAIN</td>\n",
       "      <td>0</td>\n",
       "      <td>189.57016</td>\n",
       "    </tr>\n",
       "    <tr>\n",
       "      <th>15</th>\n",
       "      <td>ARMJAGH1187FB546F3</td>\n",
       "      <td>THE BOX TOPS</td>\n",
       "      <td>Memphis, TN</td>\n",
       "      <td>35.14968</td>\n",
       "      <td>-90.04892</td>\n",
       "      <td>SOCIWDW12A8C13D406</td>\n",
       "      <td>SOUL DEEP</td>\n",
       "      <td>1969</td>\n",
       "      <td>148.03546</td>\n",
       "    </tr>\n",
       "    <tr>\n",
       "      <th>16</th>\n",
       "      <td>ARKFYS91187B98E58F</td>\n",
       "      <td>JEFF AND SHERI EASTER</td>\n",
       "      <td></td>\n",
       "      <td>NaN</td>\n",
       "      <td>NaN</td>\n",
       "      <td>SOYMRWW12A6D4FAB14</td>\n",
       "      <td>THE MOON AND I (ORDINARY DAY ALBUM VERSION)</td>\n",
       "      <td>0</td>\n",
       "      <td>267.70240</td>\n",
       "    </tr>\n",
       "    <tr>\n",
       "      <th>17</th>\n",
       "      <td>ARD0S291187B9B7BF5</td>\n",
       "      <td>RATED R</td>\n",
       "      <td>Ohio</td>\n",
       "      <td>NaN</td>\n",
       "      <td>NaN</td>\n",
       "      <td>SOMJBYD12A6D4F8557</td>\n",
       "      <td>KEEPIN IT REAL (SKIT)</td>\n",
       "      <td>0</td>\n",
       "      <td>114.78159</td>\n",
       "    </tr>\n",
       "    <tr>\n",
       "      <th>18</th>\n",
       "      <td>ARGSJW91187B9B1D6B</td>\n",
       "      <td>JENNYANYKIND</td>\n",
       "      <td>North Carolina</td>\n",
       "      <td>35.21962</td>\n",
       "      <td>-80.01955</td>\n",
       "      <td>SOQHXMF12AB0182363</td>\n",
       "      <td>YOUNG BOY BLUES</td>\n",
       "      <td>0</td>\n",
       "      <td>218.77506</td>\n",
       "    </tr>\n",
       "    <tr>\n",
       "      <th>19</th>\n",
       "      <td>AR7G5I41187FB4CE6C</td>\n",
       "      <td>ADAM ANT</td>\n",
       "      <td>London, England</td>\n",
       "      <td>NaN</td>\n",
       "      <td>NaN</td>\n",
       "      <td>SONHOTT12A8C13493C</td>\n",
       "      <td>SOMETHING GIRLS</td>\n",
       "      <td>1982</td>\n",
       "      <td>233.40363</td>\n",
       "    </tr>\n",
       "    <tr>\n",
       "      <th>20</th>\n",
       "      <td>ARXR32B1187FB57099</td>\n",
       "      <td>GOB</td>\n",
       "      <td></td>\n",
       "      <td>NaN</td>\n",
       "      <td>NaN</td>\n",
       "      <td>SOFSOCN12A8C143F5D</td>\n",
       "      <td>FACE THE ASHES</td>\n",
       "      <td>2007</td>\n",
       "      <td>209.60608</td>\n",
       "    </tr>\n",
       "    <tr>\n",
       "      <th>21</th>\n",
       "      <td>ARKRRTF1187B9984DA</td>\n",
       "      <td>SONORA SANTANERA</td>\n",
       "      <td></td>\n",
       "      <td>NaN</td>\n",
       "      <td>NaN</td>\n",
       "      <td>SOXVLOJ12AB0189215</td>\n",
       "      <td>AMOR DE CABARET</td>\n",
       "      <td>0</td>\n",
       "      <td>177.47546</td>\n",
       "    </tr>\n",
       "    <tr>\n",
       "      <th>22</th>\n",
       "      <td>ARIG6O41187B988BDD</td>\n",
       "      <td>RICHARD SOUTHER</td>\n",
       "      <td>United States</td>\n",
       "      <td>37.16793</td>\n",
       "      <td>-95.84502</td>\n",
       "      <td>SOUQQEA12A8C134B1B</td>\n",
       "      <td>HIGH TIDE</td>\n",
       "      <td>0</td>\n",
       "      <td>228.59710</td>\n",
       "    </tr>\n",
       "    <tr>\n",
       "      <th>23</th>\n",
       "      <td>AR1ZHYZ1187FB3C717</td>\n",
       "      <td>FAIZ ALI FAIZ</td>\n",
       "      <td></td>\n",
       "      <td>NaN</td>\n",
       "      <td>NaN</td>\n",
       "      <td>SOILPQQ12AB017E82A</td>\n",
       "      <td>SOHNA NEE SOHNA DATA</td>\n",
       "      <td>0</td>\n",
       "      <td>599.24853</td>\n",
       "    </tr>\n",
       "    <tr>\n",
       "      <th>24</th>\n",
       "      <td>ARD842G1187B997376</td>\n",
       "      <td>BLUE RODEO</td>\n",
       "      <td>Toronto, Ontario, Canada</td>\n",
       "      <td>43.64856</td>\n",
       "      <td>-79.38533</td>\n",
       "      <td>SOHUOAP12A8AE488E9</td>\n",
       "      <td>FLOATING</td>\n",
       "      <td>1987</td>\n",
       "      <td>491.12771</td>\n",
       "    </tr>\n",
       "    <tr>\n",
       "      <th>25</th>\n",
       "      <td>ARL7K851187B99ACD2</td>\n",
       "      <td>ANDY ANDY</td>\n",
       "      <td></td>\n",
       "      <td>NaN</td>\n",
       "      <td>NaN</td>\n",
       "      <td>SOMUYGI12AB0188633</td>\n",
       "      <td>LA CULPA</td>\n",
       "      <td>0</td>\n",
       "      <td>226.35057</td>\n",
       "    </tr>\n",
       "    <tr>\n",
       "      <th>26</th>\n",
       "      <td>ARHHO3O1187B989413</td>\n",
       "      <td>BOB AZZAM</td>\n",
       "      <td></td>\n",
       "      <td>NaN</td>\n",
       "      <td>NaN</td>\n",
       "      <td>SORAMLE12AB017C8B0</td>\n",
       "      <td>AUGURI CHA CHA</td>\n",
       "      <td>0</td>\n",
       "      <td>191.84281</td>\n",
       "    </tr>\n",
       "    <tr>\n",
       "      <th>27</th>\n",
       "      <td>ARYKCQI1187FB3B18F</td>\n",
       "      <td>TESLA</td>\n",
       "      <td></td>\n",
       "      <td>NaN</td>\n",
       "      <td>NaN</td>\n",
       "      <td>SOXLBJT12A8C140925</td>\n",
       "      <td>CAUGHT IN A DREAM</td>\n",
       "      <td>2004</td>\n",
       "      <td>290.29832</td>\n",
       "    </tr>\n",
       "    <tr>\n",
       "      <th>28</th>\n",
       "      <td>ARQGYP71187FB44566</td>\n",
       "      <td>JIMMY WAKELY</td>\n",
       "      <td>Mineola, AR</td>\n",
       "      <td>34.31109</td>\n",
       "      <td>-94.02978</td>\n",
       "      <td>SOWTBJW12AC468AC6E</td>\n",
       "      <td>BROKEN-DOWN MERRY-GO-ROUND</td>\n",
       "      <td>0</td>\n",
       "      <td>151.84934</td>\n",
       "    </tr>\n",
       "  </tbody>\n",
       "</table>\n",
       "</div>"
      ],
      "text/plain": [
       "             artist_id            artist_name              artist_location  \\\n",
       "0   ARD7TVE1187B99BFB1                 CASUAL              California - LA   \n",
       "2   ARD7TVE1187B99BFB1                 CASUAL              California - LA   \n",
       "9   ARNTLGG11E2835DDB9                    CLP                                \n",
       "10  ARNTLGG11E2835DDB9                    CLP                                \n",
       "13  AR8ZCNI1187B9A069B       PLANET P PROJECT                                \n",
       "14  AR10USD1187B99F3F1  TWEETERFRIENDLY MUSIC  Burlington, Ontario, Canada   \n",
       "15  ARMJAGH1187FB546F3           THE BOX TOPS                  Memphis, TN   \n",
       "16  ARKFYS91187B98E58F  JEFF AND SHERI EASTER                                \n",
       "17  ARD0S291187B9B7BF5                RATED R                         Ohio   \n",
       "18  ARGSJW91187B9B1D6B           JENNYANYKIND               North Carolina   \n",
       "19  AR7G5I41187FB4CE6C               ADAM ANT              London, England   \n",
       "20  ARXR32B1187FB57099                    GOB                                \n",
       "21  ARKRRTF1187B9984DA       SONORA SANTANERA                                \n",
       "22  ARIG6O41187B988BDD        RICHARD SOUTHER                United States   \n",
       "23  AR1ZHYZ1187FB3C717          FAIZ ALI FAIZ                                \n",
       "24  ARD842G1187B997376             BLUE RODEO     Toronto, Ontario, Canada   \n",
       "25  ARL7K851187B99ACD2              ANDY ANDY                                \n",
       "26  ARHHO3O1187B989413              BOB AZZAM                                \n",
       "27  ARYKCQI1187FB3B18F                  TESLA                                \n",
       "28  ARQGYP71187FB44566           JIMMY WAKELY                  Mineola, AR   \n",
       "\n",
       "    artist_latitude  artist_longitude             song_id  \\\n",
       "0               NaN               NaN  SOMZWCG12A8C13C480   \n",
       "2               NaN               NaN  SOQLGFP12A58A7800E   \n",
       "9               NaN               NaN  SOUDSGM12AC9618304   \n",
       "10              NaN               NaN  SOZQDIU12A58A7BCF6   \n",
       "13              NaN               NaN  SOIAZJW12AB01853F1   \n",
       "14              NaN               NaN  SOHKNRJ12A6701D1F8   \n",
       "15         35.14968         -90.04892  SOCIWDW12A8C13D406   \n",
       "16              NaN               NaN  SOYMRWW12A6D4FAB14   \n",
       "17              NaN               NaN  SOMJBYD12A6D4F8557   \n",
       "18         35.21962         -80.01955  SOQHXMF12AB0182363   \n",
       "19              NaN               NaN  SONHOTT12A8C13493C   \n",
       "20              NaN               NaN  SOFSOCN12A8C143F5D   \n",
       "21              NaN               NaN  SOXVLOJ12AB0189215   \n",
       "22         37.16793         -95.84502  SOUQQEA12A8C134B1B   \n",
       "23              NaN               NaN  SOILPQQ12AB017E82A   \n",
       "24         43.64856         -79.38533  SOHUOAP12A8AE488E9   \n",
       "25              NaN               NaN  SOMUYGI12AB0188633   \n",
       "26              NaN               NaN  SORAMLE12AB017C8B0   \n",
       "27              NaN               NaN  SOXLBJT12A8C140925   \n",
       "28         34.31109         -94.02978  SOWTBJW12AC468AC6E   \n",
       "\n",
       "                                          title  year   duration  \n",
       "0                              I DIDN'T MEAN TO     0  218.93179  \n",
       "2                                       OAKTOWN     0  259.44771  \n",
       "9             INSATIABLE (INSTRUMENTAL VERSION)     0  266.39628  \n",
       "10                            SUPERCONFIDENTIAL     0  338.31138  \n",
       "13                                   PINK WORLD  1984  269.81832  \n",
       "14                                 DROP OF RAIN     0  189.57016  \n",
       "15                                    SOUL DEEP  1969  148.03546  \n",
       "16  THE MOON AND I (ORDINARY DAY ALBUM VERSION)     0  267.70240  \n",
       "17                        KEEPIN IT REAL (SKIT)     0  114.78159  \n",
       "18                              YOUNG BOY BLUES     0  218.77506  \n",
       "19                              SOMETHING GIRLS  1982  233.40363  \n",
       "20                               FACE THE ASHES  2007  209.60608  \n",
       "21                              AMOR DE CABARET     0  177.47546  \n",
       "22                                    HIGH TIDE     0  228.59710  \n",
       "23                         SOHNA NEE SOHNA DATA     0  599.24853  \n",
       "24                                     FLOATING  1987  491.12771  \n",
       "25                                     LA CULPA     0  226.35057  \n",
       "26                               AUGURI CHA CHA     0  191.84281  \n",
       "27                            CAUGHT IN A DREAM  2004  290.29832  \n",
       "28                   BROKEN-DOWN MERRY-GO-ROUND     0  151.84934  "
      ]
     },
     "execution_count": 71,
     "metadata": {},
     "output_type": "execute_result"
    }
   ],
   "source": [
    "a.head(20)"
   ]
  },
  {
   "cell_type": "code",
   "execution_count": 76,
   "metadata": {
    "editable": true
   },
   "outputs": [],
   "source": [
    "log_df.song = log_df.song.str.upper()"
   ]
  },
  {
   "cell_type": "code",
   "execution_count": 80,
   "metadata": {
    "editable": true
   },
   "outputs": [
    {
     "data": {
      "text/plain": [
       "0    15\n",
       "Name: userId, dtype: object"
      ]
     },
     "execution_count": 80,
     "metadata": {},
     "output_type": "execute_result"
    }
   ],
   "source": [
    "pd.merge(log_df,a, right_on= [\"artist_name\",\"title\",\"duration\"], left_on = [\"artist\", \"song\", \"length\"])"
   ]
  },
  {
   "cell_type": "code",
   "execution_count": 81,
   "metadata": {
    "editable": true
   },
   "outputs": [],
   "source": [
    "#INNER JOIN songplays B using(duration, song, artist)\n",
    "for index,row in log_df.iterrows():\n",
    "    #print(row[\"artist\"])\n",
    "    cur.execute(song_select, (row[\"artist\"], row[\"song\"],row[\"length\"]))\n",
    "    results = cur.fetchone()\n",
    "\n",
    "    if results:\n",
    "        songid, artistid = results\n",
    "        #print(results)\n",
    "    else:\n",
    "        songid, artistid = None, None\n",
    "    #print(row)\n",
    "    # insert songplay record\n",
    "    if results and row[\"userId\"]!=\"\":\n",
    "        songplay_data = row[\"ts\"],row[\"userId\"],row[\"level\"],songid, artistid, row[\"sessionId\"], row[\"location\"],row[\"userAgent\"]\n",
    "        cur.execute(songplay_table_insert, (songplay_data))\n",
    "        conn.commit()"
   ]
  },
  {
   "cell_type": "markdown",
   "metadata": {
    "editable": true
   },
   "source": [
    "Run `test.ipynb` to see if you've successfully added records to this table."
   ]
  },
  {
   "cell_type": "markdown",
   "metadata": {
    "editable": true
   },
   "source": [
    "# Close Connection to Sparkify Database"
   ]
  },
  {
   "cell_type": "code",
   "execution_count": null,
   "metadata": {
    "editable": true
   },
   "outputs": [],
   "source": [
    "conn.close()"
   ]
  },
  {
   "cell_type": "markdown",
   "metadata": {
    "editable": true
   },
   "source": [
    "# Implement `etl.py`\n",
    "Use what you've completed in this notebook to implement `etl.py`."
   ]
  },
  {
   "cell_type": "code",
   "execution_count": null,
   "metadata": {
    "editable": true
   },
   "outputs": [],
   "source": []
  }
 ],
 "metadata": {
  "kernelspec": {
   "display_name": "Python 3",
   "language": "python",
   "name": "python3"
  },
  "language_info": {
   "codemirror_mode": {
    "name": "ipython",
    "version": 3
   },
   "file_extension": ".py",
   "mimetype": "text/x-python",
   "name": "python",
   "nbconvert_exporter": "python",
   "pygments_lexer": "ipython3",
   "version": "3.6.3"
  }
 },
 "nbformat": 4,
 "nbformat_minor": 4
}
